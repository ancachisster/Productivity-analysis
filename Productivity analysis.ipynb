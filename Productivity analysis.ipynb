{
 "cells": [
  {
   "cell_type": "markdown",
   "metadata": {},
   "source": [
    "Problem:\n",
    "\n",
    "The UK Support Call Centre is experiencing performance issues. You are given the following datasets:\n",
    "    1. An extract from our call centre software, which shows call activity\n",
    "    2. UK appointment volumes\n",
    "    \n",
    "There are two initial hypotheses that they would like you to tesT:\n",
    "    Hypothesis 1: Call centre performance has decreases over the period: 1 Feb 19 - 27 Apr 19\n",
    "    Hypothesis 2: The change in call centre performance is due to poor agent performance "
   ]
  },
  {
   "cell_type": "code",
   "execution_count": 1,
   "metadata": {},
   "outputs": [],
   "source": [
    "import pandas as pd\n",
    "import numpy as np\n",
    "from datetime import time\n",
    "from datetime import date\n",
    "import matplotlib.pyplot as plt\n",
    "import sklearn as sk\n",
    "from sklearn.linear_model import LinearRegression\n",
    "from sklearn import linear_model\n",
    "from datetime import datetime\n",
    "from sklearn import datasets, linear_model\n",
    "from sklearn.metrics import mean_squared_error, r2_score\n",
    "from scipy import stats\n",
    "from sklearn import datasets"
   ]
  },
  {
   "cell_type": "code",
   "execution_count": 3,
   "metadata": {},
   "outputs": [],
   "source": [
    "# Dataset 1: Call centre data\n",
    "df_1 = pd.read_excel(PATH, sheet_name=0)\n",
    "# Dataset 2: UK appointments data\n",
    "df_2 = pd.read_excel(PATH, sheet_name=1)"
   ]
  },
  {
   "cell_type": "code",
   "execution_count": 4,
   "metadata": {},
   "outputs": [
    {
     "name": "stdout",
     "output_type": "stream",
     "text": [
      "97873\n"
     ]
    },
    {
     "data": {
      "text/html": [
       "<div>\n",
       "<style scoped>\n",
       "    .dataframe tbody tr th:only-of-type {\n",
       "        vertical-align: middle;\n",
       "    }\n",
       "\n",
       "    .dataframe tbody tr th {\n",
       "        vertical-align: top;\n",
       "    }\n",
       "\n",
       "    .dataframe thead th {\n",
       "        text-align: right;\n",
       "    }\n",
       "</style>\n",
       "<table border=\"1\" class=\"dataframe\">\n",
       "  <thead>\n",
       "    <tr style=\"text-align: right;\">\n",
       "      <th></th>\n",
       "      <th>Period</th>\n",
       "      <th>Type</th>\n",
       "      <th>Create time</th>\n",
       "      <th>Direction</th>\n",
       "      <th>Accept time</th>\n",
       "      <th>Total time processing transaction</th>\n",
       "      <th>Total time on post processing</th>\n",
       "      <th>Abandon time</th>\n",
       "      <th>IVR Treatment Time</th>\n",
       "      <th>Tagged category</th>\n",
       "    </tr>\n",
       "  </thead>\n",
       "  <tbody>\n",
       "    <tr>\n",
       "      <th>0</th>\n",
       "      <td>2019-03-29</td>\n",
       "      <td>Call</td>\n",
       "      <td>2019-03-29 16:45:37</td>\n",
       "      <td>outbound</td>\n",
       "      <td>2019-03-29 16:45:37</td>\n",
       "      <td>NaN</td>\n",
       "      <td>NaN</td>\n",
       "      <td>NaT</td>\n",
       "      <td>NaN</td>\n",
       "      <td>NaN</td>\n",
       "    </tr>\n",
       "    <tr>\n",
       "      <th>1</th>\n",
       "      <td>2019-03-29</td>\n",
       "      <td>Call</td>\n",
       "      <td>2019-03-29 15:22:13</td>\n",
       "      <td>outbound</td>\n",
       "      <td>2019-03-29 15:22:13</td>\n",
       "      <td>00:00:19</td>\n",
       "      <td>NaN</td>\n",
       "      <td>NaT</td>\n",
       "      <td>NaN</td>\n",
       "      <td>NaN</td>\n",
       "    </tr>\n",
       "    <tr>\n",
       "      <th>2</th>\n",
       "      <td>2019-03-29</td>\n",
       "      <td>Call</td>\n",
       "      <td>2019-03-29 09:16:10</td>\n",
       "      <td>outbound</td>\n",
       "      <td>2019-03-29 09:16:10</td>\n",
       "      <td>00:01:02</td>\n",
       "      <td>NaN</td>\n",
       "      <td>NaT</td>\n",
       "      <td>NaN</td>\n",
       "      <td>NaN</td>\n",
       "    </tr>\n",
       "    <tr>\n",
       "      <th>3</th>\n",
       "      <td>2019-03-29</td>\n",
       "      <td>Call</td>\n",
       "      <td>2019-03-29 15:42:41</td>\n",
       "      <td>outbound</td>\n",
       "      <td>2019-03-29 15:42:41</td>\n",
       "      <td>00:00:27</td>\n",
       "      <td>NaN</td>\n",
       "      <td>NaT</td>\n",
       "      <td>NaN</td>\n",
       "      <td>NaN</td>\n",
       "    </tr>\n",
       "    <tr>\n",
       "      <th>4</th>\n",
       "      <td>2019-03-29</td>\n",
       "      <td>Call</td>\n",
       "      <td>2019-03-29 11:54:56</td>\n",
       "      <td>outbound</td>\n",
       "      <td>2019-03-29 11:54:56</td>\n",
       "      <td>NaN</td>\n",
       "      <td>NaN</td>\n",
       "      <td>NaT</td>\n",
       "      <td>NaN</td>\n",
       "      <td>NaN</td>\n",
       "    </tr>\n",
       "  </tbody>\n",
       "</table>\n",
       "</div>"
      ],
      "text/plain": [
       "      Period  Type         Create time Direction          Accept time  \\\n",
       "0 2019-03-29  Call 2019-03-29 16:45:37  outbound  2019-03-29 16:45:37   \n",
       "1 2019-03-29  Call 2019-03-29 15:22:13  outbound  2019-03-29 15:22:13   \n",
       "2 2019-03-29  Call 2019-03-29 09:16:10  outbound  2019-03-29 09:16:10   \n",
       "3 2019-03-29  Call 2019-03-29 15:42:41  outbound  2019-03-29 15:42:41   \n",
       "4 2019-03-29  Call 2019-03-29 11:54:56  outbound  2019-03-29 11:54:56   \n",
       "\n",
       "  Total time processing transaction Total time on post processing  \\\n",
       "0                               NaN                           NaN   \n",
       "1                          00:00:19                           NaN   \n",
       "2                          00:01:02                           NaN   \n",
       "3                          00:00:27                           NaN   \n",
       "4                               NaN                           NaN   \n",
       "\n",
       "  Abandon time IVR Treatment Time Tagged category  \n",
       "0          NaT                NaN             NaN  \n",
       "1          NaT                NaN             NaN  \n",
       "2          NaT                NaN             NaN  \n",
       "3          NaT                NaN             NaN  \n",
       "4          NaT                NaN             NaN  "
      ]
     },
     "execution_count": 4,
     "metadata": {},
     "output_type": "execute_result"
    }
   ],
   "source": [
    "print(len(df_1))\n",
    "df_1.head()"
   ]
  },
  {
   "cell_type": "code",
   "execution_count": 5,
   "metadata": {},
   "outputs": [
    {
     "data": {
      "text/plain": [
       "str"
      ]
     },
     "execution_count": 5,
     "metadata": {},
     "output_type": "execute_result"
    }
   ],
   "source": [
    "# Converting time data to 3 separate columns\n",
    "\n",
    "type(\"Period\")"
   ]
  },
  {
   "cell_type": "code",
   "execution_count": 6,
   "metadata": {},
   "outputs": [
    {
     "name": "stdout",
     "output_type": "stream",
     "text": [
      "[2019]\n"
     ]
    }
   ],
   "source": [
    "print(df_1[\"Period\"].dt.year.unique())\n",
    "# All in 2019 - focus on extracting month and day "
   ]
  },
  {
   "cell_type": "code",
   "execution_count": 7,
   "metadata": {},
   "outputs": [],
   "source": [
    "# Generating Month and Day columns\n",
    "\n",
    "df_1[\"Period_Month\"] = df_1[\"Period\"].dt.month\n",
    "df_1[\"Period_Day\"] = df_1[\"Period\"].dt.day"
   ]
  },
  {
   "cell_type": "code",
   "execution_count": 8,
   "metadata": {},
   "outputs": [
    {
     "name": "stdout",
     "output_type": "stream",
     "text": [
      "[3 4 2 1]\n"
     ]
    }
   ],
   "source": [
    "# Period to look at is 01/02/19 to 27/04/19\n",
    "# Checking for any observations outside this range\n",
    "\n",
    "print(df_1[\"Period_Month\"].unique())"
   ]
  },
  {
   "cell_type": "code",
   "execution_count": 9,
   "metadata": {},
   "outputs": [
    {
     "data": {
      "text/plain": [
       "2008"
      ]
     },
     "execution_count": 9,
     "metadata": {},
     "output_type": "execute_result"
    }
   ],
   "source": [
    "# Checking how many dates before 01/02\n",
    "\n",
    "len(df_1[df_1[\"Period_Month\"] == 1])\n",
    "# Excude calls made in Jan "
   ]
  },
  {
   "cell_type": "code",
   "execution_count": 10,
   "metadata": {},
   "outputs": [
    {
     "data": {
      "text/plain": [
       "0"
      ]
     },
     "execution_count": 10,
     "metadata": {},
     "output_type": "execute_result"
    }
   ],
   "source": [
    "# Checking how many dates after 27/04\n",
    "\n",
    "len(df_1[(df_1[\"Period_Month\"] == 4) & (df_1[\"Period_Day\"] > 27)])"
   ]
  },
  {
   "cell_type": "code",
   "execution_count": 11,
   "metadata": {},
   "outputs": [],
   "source": [
    "# 2008 observations before 01/02\n",
    "# Filter these out "
   ]
  },
  {
   "cell_type": "code",
   "execution_count": 12,
   "metadata": {},
   "outputs": [
    {
     "name": "stdout",
     "output_type": "stream",
     "text": [
      "0\n",
      "0\n",
      "0\n",
      "30844\n",
      "30418\n"
     ]
    }
   ],
   "source": [
    "# Count number of abandoned calls\n",
    "# Call is abandoned if there is a timestamp (i.e. not missing)\n",
    "\n",
    "# Checking for impossible observations\n",
    "print(len(df_1[~(df_1[\"Abandon time\"].isnull()) & (~df_1[\"Total time on post processing\"].isnull())]))\n",
    "# Shouldn't have an adondonment timestamp and a value for processing transaction \n",
    "print(len(df_1[~(df_1[\"Abandon time\"].isnull()) & (~df_1[\"Total time processing transaction\"].isnull())]))\n",
    "# Shouldn't have an adondonment timestamp and a timestampe for accepted time\n",
    "print(len(df_1[~(df_1[\"Abandon time\"].isnull()) & (~df_1[\"Accept time\"].isnull())]))\n",
    "# Total number of abandoned calls = 30844\n",
    "print(len(df_1[~(df_1[\"Abandon time\"].isnull())]))\n",
    "\n",
    "# Total number of abandoned calls for the time period being analysed\n",
    "print(len((df_1[~(df_1[\"Abandon time\"].isnull()) & (df_1[\"Period_Month\"]>1)])))"
   ]
  },
  {
   "cell_type": "code",
   "execution_count": 13,
   "metadata": {},
   "outputs": [
    {
     "name": "stdout",
     "output_type": "stream",
     "text": [
      "52245\n",
      "50968\n"
     ]
    },
    {
     "data": {
      "text/html": [
       "<div>\n",
       "<style scoped>\n",
       "    .dataframe tbody tr th:only-of-type {\n",
       "        vertical-align: middle;\n",
       "    }\n",
       "\n",
       "    .dataframe tbody tr th {\n",
       "        vertical-align: top;\n",
       "    }\n",
       "\n",
       "    .dataframe thead th {\n",
       "        text-align: right;\n",
       "    }\n",
       "</style>\n",
       "<table border=\"1\" class=\"dataframe\">\n",
       "  <thead>\n",
       "    <tr style=\"text-align: right;\">\n",
       "      <th></th>\n",
       "      <th>Period</th>\n",
       "      <th>Type</th>\n",
       "      <th>Create time</th>\n",
       "      <th>Direction</th>\n",
       "      <th>Accept time</th>\n",
       "      <th>Total time processing transaction</th>\n",
       "      <th>Total time on post processing</th>\n",
       "      <th>Abandon time</th>\n",
       "      <th>IVR Treatment Time</th>\n",
       "      <th>Tagged category</th>\n",
       "      <th>Period_Month</th>\n",
       "      <th>Period_Day</th>\n",
       "    </tr>\n",
       "  </thead>\n",
       "  <tbody>\n",
       "    <tr>\n",
       "      <th>89741</th>\n",
       "      <td>2019-04-09</td>\n",
       "      <td>Call</td>\n",
       "      <td>NaT</td>\n",
       "      <td>inbound</td>\n",
       "      <td>NaN</td>\n",
       "      <td>00:02:06</td>\n",
       "      <td>00:02:25</td>\n",
       "      <td>NaT</td>\n",
       "      <td>00:00:04</td>\n",
       "      <td>Provider &gt; Prescription &gt; Not delivered to pha...</td>\n",
       "      <td>4</td>\n",
       "      <td>9</td>\n",
       "    </tr>\n",
       "    <tr>\n",
       "      <th>91425</th>\n",
       "      <td>2019-04-13</td>\n",
       "      <td>Call</td>\n",
       "      <td>NaT</td>\n",
       "      <td>inbound</td>\n",
       "      <td>NaN</td>\n",
       "      <td>00:01:58</td>\n",
       "      <td>00:03:06</td>\n",
       "      <td>NaT</td>\n",
       "      <td>00:00:19</td>\n",
       "      <td>Patient &gt; Appointments &gt; Book F2F Appointment</td>\n",
       "      <td>4</td>\n",
       "      <td>13</td>\n",
       "    </tr>\n",
       "  </tbody>\n",
       "</table>\n",
       "</div>"
      ],
      "text/plain": [
       "          Period  Type Create time Direction Accept time  \\\n",
       "89741 2019-04-09  Call         NaT   inbound         NaN   \n",
       "91425 2019-04-13  Call         NaT   inbound         NaN   \n",
       "\n",
       "      Total time processing transaction Total time on post processing  \\\n",
       "89741                          00:02:06                      00:02:25   \n",
       "91425                          00:01:58                      00:03:06   \n",
       "\n",
       "      Abandon time IVR Treatment Time  \\\n",
       "89741          NaT           00:00:04   \n",
       "91425          NaT           00:00:19   \n",
       "\n",
       "                                         Tagged category  Period_Month  \\\n",
       "89741  Provider > Prescription > Not delivered to pha...             4   \n",
       "91425      Patient > Appointments > Book F2F Appointment             4   \n",
       "\n",
       "       Period_Day  \n",
       "89741           9  \n",
       "91425          13  "
      ]
     },
     "execution_count": 13,
     "metadata": {},
     "output_type": "execute_result"
    }
   ],
   "source": [
    "# Count number of accepted calls\n",
    "# Call is accepted if there is a timestamp (i.e. not missing)\n",
    "\n",
    "print(len(df_1[~(df_1[\"Accept time\"].isnull())]))\n",
    "\n",
    "# Total number of accepted calls for the time period being analused\n",
    "print(len(df_1[~(df_1[\"Accept time\"].isnull()) & (df_1[\"Period_Month\"]>1)]))\n",
    "\n",
    "\n",
    "# 2 calls that clearly happened but no Accept time stamp\n",
    "df_1[(df_1[\"Accept time\"].isnull()) & ((~df_1[\"Total time processing transaction\"].isnull()) | (~df_1[\"Total time on post processing\"].isnull()))]"
   ]
  },
  {
   "cell_type": "code",
   "execution_count": 14,
   "metadata": {},
   "outputs": [
    {
     "name": "stdout",
     "output_type": "stream",
     "text": [
      "14784\n",
      "14479\n"
     ]
    }
   ],
   "source": [
    "# Count the number of NEITHER abandoned NOR accepted\n",
    "# This is whereby the user disconnected before the caller reached the call queue\n",
    "\n",
    "print(len(df_1[(df_1[\"Accept time\"].isnull()) & (df_1[\"Abandon time\"].isnull())]))\n",
    "df_1[(df_1[\"Accept time\"].isnull()) & (df_1[\"Abandon time\"].isnull())]\n",
    "\n",
    "# Count the number of NEITHER abandoned NOR accepted in the time period being analysed\n",
    "print(len(df_1[(df_1[\"Accept time\"].isnull()) & (df_1[\"Abandon time\"].isnull()) & (df_1[\"Period_Month\"]>1)]))"
   ]
  },
  {
   "cell_type": "code",
   "execution_count": 15,
   "metadata": {},
   "outputs": [],
   "source": [
    "# Define key call centre performance metric: % Abandonment Rate\n",
    "# Defined as: Abandoned calls/(Abandoned calls + accepted calls)\n",
    "# Target: 10% max abandoment\n",
    "\n",
    "# Generate binary column to denote whether call was abandoned\n",
    "\n",
    "df_1[\"Abandon\"] = (~(df_1[\"Abandon time\"].isnull())).astype(int)\n",
    "\n",
    "# Generate binary column to denote whether call was accepted\n",
    "\n",
    "df_1[\"Accept\"] = (~(df_1[\"Accept time\"].isnull())).astype(int)"
   ]
  },
  {
   "cell_type": "code",
   "execution_count": 16,
   "metadata": {},
   "outputs": [
    {
     "data": {
      "text/html": [
       "<div>\n",
       "<style scoped>\n",
       "    .dataframe tbody tr th:only-of-type {\n",
       "        vertical-align: middle;\n",
       "    }\n",
       "\n",
       "    .dataframe tbody tr th {\n",
       "        vertical-align: top;\n",
       "    }\n",
       "\n",
       "    .dataframe thead th {\n",
       "        text-align: right;\n",
       "    }\n",
       "</style>\n",
       "<table border=\"1\" class=\"dataframe\">\n",
       "  <thead>\n",
       "    <tr style=\"text-align: right;\">\n",
       "      <th></th>\n",
       "      <th>Period</th>\n",
       "      <th>Type</th>\n",
       "      <th>Create time</th>\n",
       "      <th>Direction</th>\n",
       "      <th>Accept time</th>\n",
       "      <th>Total time processing transaction</th>\n",
       "      <th>Total time on post processing</th>\n",
       "      <th>Abandon time</th>\n",
       "      <th>IVR Treatment Time</th>\n",
       "      <th>Tagged category</th>\n",
       "      <th>Period_Month</th>\n",
       "      <th>Period_Day</th>\n",
       "      <th>Abandon</th>\n",
       "      <th>Accept</th>\n",
       "      <th>Period_int</th>\n",
       "    </tr>\n",
       "  </thead>\n",
       "  <tbody>\n",
       "    <tr>\n",
       "      <th>0</th>\n",
       "      <td>2019-03-29</td>\n",
       "      <td>Call</td>\n",
       "      <td>2019-03-29 16:45:37</td>\n",
       "      <td>outbound</td>\n",
       "      <td>2019-03-29 16:45:37</td>\n",
       "      <td>NaN</td>\n",
       "      <td>NaN</td>\n",
       "      <td>NaT</td>\n",
       "      <td>NaN</td>\n",
       "      <td>NaN</td>\n",
       "      <td>3</td>\n",
       "      <td>29</td>\n",
       "      <td>0</td>\n",
       "      <td>1</td>\n",
       "      <td>88</td>\n",
       "    </tr>\n",
       "    <tr>\n",
       "      <th>1</th>\n",
       "      <td>2019-03-29</td>\n",
       "      <td>Call</td>\n",
       "      <td>2019-03-29 15:22:13</td>\n",
       "      <td>outbound</td>\n",
       "      <td>2019-03-29 15:22:13</td>\n",
       "      <td>00:00:19</td>\n",
       "      <td>NaN</td>\n",
       "      <td>NaT</td>\n",
       "      <td>NaN</td>\n",
       "      <td>NaN</td>\n",
       "      <td>3</td>\n",
       "      <td>29</td>\n",
       "      <td>0</td>\n",
       "      <td>1</td>\n",
       "      <td>88</td>\n",
       "    </tr>\n",
       "    <tr>\n",
       "      <th>2</th>\n",
       "      <td>2019-03-29</td>\n",
       "      <td>Call</td>\n",
       "      <td>2019-03-29 09:16:10</td>\n",
       "      <td>outbound</td>\n",
       "      <td>2019-03-29 09:16:10</td>\n",
       "      <td>00:01:02</td>\n",
       "      <td>NaN</td>\n",
       "      <td>NaT</td>\n",
       "      <td>NaN</td>\n",
       "      <td>NaN</td>\n",
       "      <td>3</td>\n",
       "      <td>29</td>\n",
       "      <td>0</td>\n",
       "      <td>1</td>\n",
       "      <td>88</td>\n",
       "    </tr>\n",
       "    <tr>\n",
       "      <th>3</th>\n",
       "      <td>2019-03-29</td>\n",
       "      <td>Call</td>\n",
       "      <td>2019-03-29 15:42:41</td>\n",
       "      <td>outbound</td>\n",
       "      <td>2019-03-29 15:42:41</td>\n",
       "      <td>00:00:27</td>\n",
       "      <td>NaN</td>\n",
       "      <td>NaT</td>\n",
       "      <td>NaN</td>\n",
       "      <td>NaN</td>\n",
       "      <td>3</td>\n",
       "      <td>29</td>\n",
       "      <td>0</td>\n",
       "      <td>1</td>\n",
       "      <td>88</td>\n",
       "    </tr>\n",
       "    <tr>\n",
       "      <th>4</th>\n",
       "      <td>2019-03-29</td>\n",
       "      <td>Call</td>\n",
       "      <td>2019-03-29 11:54:56</td>\n",
       "      <td>outbound</td>\n",
       "      <td>2019-03-29 11:54:56</td>\n",
       "      <td>NaN</td>\n",
       "      <td>NaN</td>\n",
       "      <td>NaT</td>\n",
       "      <td>NaN</td>\n",
       "      <td>NaN</td>\n",
       "      <td>3</td>\n",
       "      <td>29</td>\n",
       "      <td>0</td>\n",
       "      <td>1</td>\n",
       "      <td>88</td>\n",
       "    </tr>\n",
       "    <tr>\n",
       "      <th>...</th>\n",
       "      <td>...</td>\n",
       "      <td>...</td>\n",
       "      <td>...</td>\n",
       "      <td>...</td>\n",
       "      <td>...</td>\n",
       "      <td>...</td>\n",
       "      <td>...</td>\n",
       "      <td>...</td>\n",
       "      <td>...</td>\n",
       "      <td>...</td>\n",
       "      <td>...</td>\n",
       "      <td>...</td>\n",
       "      <td>...</td>\n",
       "      <td>...</td>\n",
       "      <td>...</td>\n",
       "    </tr>\n",
       "    <tr>\n",
       "      <th>97868</th>\n",
       "      <td>2019-04-27</td>\n",
       "      <td>Call</td>\n",
       "      <td>2019-04-27 03:40:33</td>\n",
       "      <td>inbound</td>\n",
       "      <td>NaN</td>\n",
       "      <td>NaN</td>\n",
       "      <td>NaN</td>\n",
       "      <td>2019-04-27 03:40:45</td>\n",
       "      <td>00:00:00</td>\n",
       "      <td>NaN</td>\n",
       "      <td>4</td>\n",
       "      <td>27</td>\n",
       "      <td>1</td>\n",
       "      <td>0</td>\n",
       "      <td>117</td>\n",
       "    </tr>\n",
       "    <tr>\n",
       "      <th>97869</th>\n",
       "      <td>2019-04-27</td>\n",
       "      <td>Call</td>\n",
       "      <td>2019-04-27 20:42:30</td>\n",
       "      <td>inbound</td>\n",
       "      <td>NaN</td>\n",
       "      <td>NaN</td>\n",
       "      <td>NaN</td>\n",
       "      <td>2019-04-27 20:45:55</td>\n",
       "      <td>00:00:21</td>\n",
       "      <td>NaN</td>\n",
       "      <td>4</td>\n",
       "      <td>27</td>\n",
       "      <td>1</td>\n",
       "      <td>0</td>\n",
       "      <td>117</td>\n",
       "    </tr>\n",
       "    <tr>\n",
       "      <th>97870</th>\n",
       "      <td>2019-04-27</td>\n",
       "      <td>Call</td>\n",
       "      <td>2019-04-27 16:47:52</td>\n",
       "      <td>inbound</td>\n",
       "      <td>NaN</td>\n",
       "      <td>NaN</td>\n",
       "      <td>NaN</td>\n",
       "      <td>2019-04-27 16:52:33</td>\n",
       "      <td>00:00:00</td>\n",
       "      <td>NaN</td>\n",
       "      <td>4</td>\n",
       "      <td>27</td>\n",
       "      <td>1</td>\n",
       "      <td>0</td>\n",
       "      <td>117</td>\n",
       "    </tr>\n",
       "    <tr>\n",
       "      <th>97871</th>\n",
       "      <td>2019-04-27</td>\n",
       "      <td>Call</td>\n",
       "      <td>2019-04-27 11:57:10</td>\n",
       "      <td>inbound</td>\n",
       "      <td>NaN</td>\n",
       "      <td>NaN</td>\n",
       "      <td>NaN</td>\n",
       "      <td>2019-04-27 11:58:20</td>\n",
       "      <td>00:00:00</td>\n",
       "      <td>NaN</td>\n",
       "      <td>4</td>\n",
       "      <td>27</td>\n",
       "      <td>1</td>\n",
       "      <td>0</td>\n",
       "      <td>117</td>\n",
       "    </tr>\n",
       "    <tr>\n",
       "      <th>97872</th>\n",
       "      <td>2019-04-27</td>\n",
       "      <td>Call</td>\n",
       "      <td>2019-04-27 13:46:06</td>\n",
       "      <td>inbound</td>\n",
       "      <td>NaN</td>\n",
       "      <td>NaN</td>\n",
       "      <td>NaN</td>\n",
       "      <td>2019-04-27 13:46:57</td>\n",
       "      <td>00:00:00</td>\n",
       "      <td>NaN</td>\n",
       "      <td>4</td>\n",
       "      <td>27</td>\n",
       "      <td>1</td>\n",
       "      <td>0</td>\n",
       "      <td>117</td>\n",
       "    </tr>\n",
       "  </tbody>\n",
       "</table>\n",
       "<p>95865 rows × 15 columns</p>\n",
       "</div>"
      ],
      "text/plain": [
       "          Period  Type         Create time Direction          Accept time  \\\n",
       "0     2019-03-29  Call 2019-03-29 16:45:37  outbound  2019-03-29 16:45:37   \n",
       "1     2019-03-29  Call 2019-03-29 15:22:13  outbound  2019-03-29 15:22:13   \n",
       "2     2019-03-29  Call 2019-03-29 09:16:10  outbound  2019-03-29 09:16:10   \n",
       "3     2019-03-29  Call 2019-03-29 15:42:41  outbound  2019-03-29 15:42:41   \n",
       "4     2019-03-29  Call 2019-03-29 11:54:56  outbound  2019-03-29 11:54:56   \n",
       "...          ...   ...                 ...       ...                  ...   \n",
       "97868 2019-04-27  Call 2019-04-27 03:40:33   inbound                  NaN   \n",
       "97869 2019-04-27  Call 2019-04-27 20:42:30   inbound                  NaN   \n",
       "97870 2019-04-27  Call 2019-04-27 16:47:52   inbound                  NaN   \n",
       "97871 2019-04-27  Call 2019-04-27 11:57:10   inbound                  NaN   \n",
       "97872 2019-04-27  Call 2019-04-27 13:46:06   inbound                  NaN   \n",
       "\n",
       "      Total time processing transaction Total time on post processing  \\\n",
       "0                                   NaN                           NaN   \n",
       "1                              00:00:19                           NaN   \n",
       "2                              00:01:02                           NaN   \n",
       "3                              00:00:27                           NaN   \n",
       "4                                   NaN                           NaN   \n",
       "...                                 ...                           ...   \n",
       "97868                               NaN                           NaN   \n",
       "97869                               NaN                           NaN   \n",
       "97870                               NaN                           NaN   \n",
       "97871                               NaN                           NaN   \n",
       "97872                               NaN                           NaN   \n",
       "\n",
       "             Abandon time IVR Treatment Time Tagged category  Period_Month  \\\n",
       "0                     NaT                NaN             NaN             3   \n",
       "1                     NaT                NaN             NaN             3   \n",
       "2                     NaT                NaN             NaN             3   \n",
       "3                     NaT                NaN             NaN             3   \n",
       "4                     NaT                NaN             NaN             3   \n",
       "...                   ...                ...             ...           ...   \n",
       "97868 2019-04-27 03:40:45           00:00:00             NaN             4   \n",
       "97869 2019-04-27 20:45:55           00:00:21             NaN             4   \n",
       "97870 2019-04-27 16:52:33           00:00:00             NaN             4   \n",
       "97871 2019-04-27 11:58:20           00:00:00             NaN             4   \n",
       "97872 2019-04-27 13:46:57           00:00:00             NaN             4   \n",
       "\n",
       "       Period_Day  Abandon  Accept  Period_int  \n",
       "0              29        0       1          88  \n",
       "1              29        0       1          88  \n",
       "2              29        0       1          88  \n",
       "3              29        0       1          88  \n",
       "4              29        0       1          88  \n",
       "...           ...      ...     ...         ...  \n",
       "97868          27        1       0         117  \n",
       "97869          27        1       0         117  \n",
       "97870          27        1       0         117  \n",
       "97871          27        1       0         117  \n",
       "97872          27        1       0         117  \n",
       "\n",
       "[95865 rows x 15 columns]"
      ]
     },
     "execution_count": 16,
     "metadata": {},
     "output_type": "execute_result"
    }
   ],
   "source": [
    "# Create dataframe with Period from only 01/02\n",
    "# Convert Period to days since 01/01/2019 (Since all observations are in January)\n",
    "df_1['Period_int'] = df_1['Period'].dt.strftime('%j').astype(int)\n",
    "\n",
    "filtered_time = df_1[(df_1['Period_int'] > 31)]\n",
    "filtered_time"
   ]
  },
  {
   "cell_type": "code",
   "execution_count": 17,
   "metadata": {},
   "outputs": [
    {
     "data": {
      "text/html": [
       "<div>\n",
       "<style scoped>\n",
       "    .dataframe tbody tr th:only-of-type {\n",
       "        vertical-align: middle;\n",
       "    }\n",
       "\n",
       "    .dataframe tbody tr th {\n",
       "        vertical-align: top;\n",
       "    }\n",
       "\n",
       "    .dataframe thead th {\n",
       "        text-align: right;\n",
       "    }\n",
       "</style>\n",
       "<table border=\"1\" class=\"dataframe\">\n",
       "  <thead>\n",
       "    <tr style=\"text-align: right;\">\n",
       "      <th></th>\n",
       "      <th>Abandon</th>\n",
       "      <th>Accept</th>\n",
       "      <th>Abandon_rate</th>\n",
       "    </tr>\n",
       "    <tr>\n",
       "      <th>Period</th>\n",
       "      <th></th>\n",
       "      <th></th>\n",
       "      <th></th>\n",
       "    </tr>\n",
       "  </thead>\n",
       "  <tbody>\n",
       "    <tr>\n",
       "      <th>2019-02-01</th>\n",
       "      <td>271</td>\n",
       "      <td>828</td>\n",
       "      <td>0.246588</td>\n",
       "    </tr>\n",
       "    <tr>\n",
       "      <th>2019-02-02</th>\n",
       "      <td>248</td>\n",
       "      <td>741</td>\n",
       "      <td>0.250758</td>\n",
       "    </tr>\n",
       "    <tr>\n",
       "      <th>2019-02-03</th>\n",
       "      <td>253</td>\n",
       "      <td>862</td>\n",
       "      <td>0.226906</td>\n",
       "    </tr>\n",
       "    <tr>\n",
       "      <th>2019-02-04</th>\n",
       "      <td>256</td>\n",
       "      <td>743</td>\n",
       "      <td>0.256256</td>\n",
       "    </tr>\n",
       "    <tr>\n",
       "      <th>2019-02-05</th>\n",
       "      <td>206</td>\n",
       "      <td>641</td>\n",
       "      <td>0.243211</td>\n",
       "    </tr>\n",
       "    <tr>\n",
       "      <th>...</th>\n",
       "      <td>...</td>\n",
       "      <td>...</td>\n",
       "      <td>...</td>\n",
       "    </tr>\n",
       "    <tr>\n",
       "      <th>2019-04-23</th>\n",
       "      <td>582</td>\n",
       "      <td>799</td>\n",
       "      <td>0.421434</td>\n",
       "    </tr>\n",
       "    <tr>\n",
       "      <th>2019-04-24</th>\n",
       "      <td>232</td>\n",
       "      <td>383</td>\n",
       "      <td>0.377236</td>\n",
       "    </tr>\n",
       "    <tr>\n",
       "      <th>2019-04-25</th>\n",
       "      <td>163</td>\n",
       "      <td>244</td>\n",
       "      <td>0.400491</td>\n",
       "    </tr>\n",
       "    <tr>\n",
       "      <th>2019-04-26</th>\n",
       "      <td>652</td>\n",
       "      <td>911</td>\n",
       "      <td>0.417147</td>\n",
       "    </tr>\n",
       "    <tr>\n",
       "      <th>2019-04-27</th>\n",
       "      <td>750</td>\n",
       "      <td>929</td>\n",
       "      <td>0.446694</td>\n",
       "    </tr>\n",
       "  </tbody>\n",
       "</table>\n",
       "<p>86 rows × 3 columns</p>\n",
       "</div>"
      ],
      "text/plain": [
       "            Abandon  Accept  Abandon_rate\n",
       "Period                                   \n",
       "2019-02-01      271     828      0.246588\n",
       "2019-02-02      248     741      0.250758\n",
       "2019-02-03      253     862      0.226906\n",
       "2019-02-04      256     743      0.256256\n",
       "2019-02-05      206     641      0.243211\n",
       "...             ...     ...           ...\n",
       "2019-04-23      582     799      0.421434\n",
       "2019-04-24      232     383      0.377236\n",
       "2019-04-25      163     244      0.400491\n",
       "2019-04-26      652     911      0.417147\n",
       "2019-04-27      750     929      0.446694\n",
       "\n",
       "[86 rows x 3 columns]"
      ]
     },
     "execution_count": 17,
     "metadata": {},
     "output_type": "execute_result"
    }
   ],
   "source": [
    "# Creating a new data frame to average abandonment rates grouped by day\n",
    "\n",
    "grouped_rate = filtered_time[[\"Period\",\"Abandon\", \"Accept\"]].groupby(['Period']).sum()\n",
    "grouped_rate['Abandon_rate'] = grouped_rate['Abandon'] / (grouped_rate['Accept'] + grouped_rate['Abandon'])\n",
    "grouped_rate"
   ]
  },
  {
   "cell_type": "code",
   "execution_count": 18,
   "metadata": {},
   "outputs": [
    {
     "data": {
      "text/plain": [
       "(-0.2172951546445522, array([-0.22080043, -0.21378988]))"
      ]
     },
     "execution_count": 18,
     "metadata": {},
     "output_type": "execute_result"
    }
   ],
   "source": [
    "# Want a confidence interval for this proportion\n",
    "def two_proportions_confint(success_a, size_a, success_b, size_b, significance = 0.05):\n",
    "    prop_a = success_a / size_a\n",
    "    prop_b = success_b / size_b\n",
    "    var = prop_a * (1 - prop_a) / size_a + prop_b * (1 - prop_b) / size_b\n",
    "    se = np.sqrt(var)\n",
    "\n",
    "    # z critical value\n",
    "    confidence = 1 - significance\n",
    "    z = stats.norm(loc = 0, scale = 1).ppf(confidence + significance / 2)\n",
    "\n",
    "    # standard formula for the confidence interval\n",
    "    # point-estimtate +- z * standard-error\n",
    "    prop_diff = prop_b - prop_a\n",
    "    confint = prop_diff + np.array([-1, 1]) * z * se\n",
    "    return prop_diff, confint\n",
    "\n",
    "success_a = 30418\n",
    "size_a = 95865\n",
    "success_b = 9587\n",
    "size_b = 95865\n",
    "\n",
    "two_proportions_confint(success_a, size_a, success_b, size_b)"
   ]
  },
  {
   "cell_type": "code",
   "execution_count": 19,
   "metadata": {},
   "outputs": [
    {
     "data": {
      "image/png": "[encoded data removed]",
      "text/plain": [
       "<Figure size 432x288 with 1 Axes>"
      ]
     },
     "metadata": {
      "needs_background": "light"
     },
     "output_type": "display_data"
    }
   ],
   "source": [
    "grouped_rate['Abandon_rate'].plot()\n",
    "plt.show()"
   ]
  },
  {
   "cell_type": "code",
   "execution_count": 20,
   "metadata": {},
   "outputs": [
    {
     "data": {
      "text/html": [
       "<div>\n",
       "<style scoped>\n",
       "    .dataframe tbody tr th:only-of-type {\n",
       "        vertical-align: middle;\n",
       "    }\n",
       "\n",
       "    .dataframe tbody tr th {\n",
       "        vertical-align: top;\n",
       "    }\n",
       "\n",
       "    .dataframe thead th {\n",
       "        text-align: right;\n",
       "    }\n",
       "</style>\n",
       "<table border=\"1\" class=\"dataframe\">\n",
       "  <thead>\n",
       "    <tr style=\"text-align: right;\">\n",
       "      <th></th>\n",
       "      <th>Create time</th>\n",
       "      <th>Accept time</th>\n",
       "      <th>Abandon time</th>\n",
       "    </tr>\n",
       "    <tr>\n",
       "      <th>Period</th>\n",
       "      <th></th>\n",
       "      <th></th>\n",
       "      <th></th>\n",
       "    </tr>\n",
       "  </thead>\n",
       "  <tbody>\n",
       "    <tr>\n",
       "      <th>2019-02-01</th>\n",
       "      <td>1318</td>\n",
       "      <td>828</td>\n",
       "      <td>271</td>\n",
       "    </tr>\n",
       "    <tr>\n",
       "      <th>2019-02-02</th>\n",
       "      <td>1166</td>\n",
       "      <td>741</td>\n",
       "      <td>248</td>\n",
       "    </tr>\n",
       "    <tr>\n",
       "      <th>2019-02-03</th>\n",
       "      <td>1314</td>\n",
       "      <td>862</td>\n",
       "      <td>253</td>\n",
       "    </tr>\n",
       "    <tr>\n",
       "      <th>2019-02-04</th>\n",
       "      <td>1161</td>\n",
       "      <td>743</td>\n",
       "      <td>256</td>\n",
       "    </tr>\n",
       "    <tr>\n",
       "      <th>2019-02-05</th>\n",
       "      <td>994</td>\n",
       "      <td>641</td>\n",
       "      <td>206</td>\n",
       "    </tr>\n",
       "    <tr>\n",
       "      <th>...</th>\n",
       "      <td>...</td>\n",
       "      <td>...</td>\n",
       "      <td>...</td>\n",
       "    </tr>\n",
       "    <tr>\n",
       "      <th>2019-04-23</th>\n",
       "      <td>1523</td>\n",
       "      <td>799</td>\n",
       "      <td>582</td>\n",
       "    </tr>\n",
       "    <tr>\n",
       "      <th>2019-04-24</th>\n",
       "      <td>693</td>\n",
       "      <td>383</td>\n",
       "      <td>232</td>\n",
       "    </tr>\n",
       "    <tr>\n",
       "      <th>2019-04-25</th>\n",
       "      <td>458</td>\n",
       "      <td>244</td>\n",
       "      <td>163</td>\n",
       "    </tr>\n",
       "    <tr>\n",
       "      <th>2019-04-26</th>\n",
       "      <td>1782</td>\n",
       "      <td>911</td>\n",
       "      <td>652</td>\n",
       "    </tr>\n",
       "    <tr>\n",
       "      <th>2019-04-27</th>\n",
       "      <td>1941</td>\n",
       "      <td>929</td>\n",
       "      <td>750</td>\n",
       "    </tr>\n",
       "  </tbody>\n",
       "</table>\n",
       "<p>86 rows × 3 columns</p>\n",
       "</div>"
      ],
      "text/plain": [
       "            Create time  Accept time  Abandon time\n",
       "Period                                            \n",
       "2019-02-01         1318          828           271\n",
       "2019-02-02         1166          741           248\n",
       "2019-02-03         1314          862           253\n",
       "2019-02-04         1161          743           256\n",
       "2019-02-05          994          641           206\n",
       "...                 ...          ...           ...\n",
       "2019-04-23         1523          799           582\n",
       "2019-04-24          693          383           232\n",
       "2019-04-25          458          244           163\n",
       "2019-04-26         1782          911           652\n",
       "2019-04-27         1941          929           750\n",
       "\n",
       "[86 rows x 3 columns]"
      ]
     },
     "execution_count": 20,
     "metadata": {},
     "output_type": "execute_result"
    }
   ],
   "source": [
    "# Creating a new dataframe to count the number of created, accepts and abandoned calls\n",
    "\n",
    "timeline = filtered_time[[\"Period\",\"Create time\", \"Accept time\" , \"Abandon time\"]].groupby(['Period']).count()\n",
    "timeline"
   ]
  },
  {
   "cell_type": "code",
   "execution_count": 21,
   "metadata": {},
   "outputs": [
    {
     "data": {
      "text/html": [
       "<div>\n",
       "<style scoped>\n",
       "    .dataframe tbody tr th:only-of-type {\n",
       "        vertical-align: middle;\n",
       "    }\n",
       "\n",
       "    .dataframe tbody tr th {\n",
       "        vertical-align: top;\n",
       "    }\n",
       "\n",
       "    .dataframe thead th {\n",
       "        text-align: right;\n",
       "    }\n",
       "</style>\n",
       "<table border=\"1\" class=\"dataframe\">\n",
       "  <thead>\n",
       "    <tr style=\"text-align: right;\">\n",
       "      <th></th>\n",
       "      <th>Create time</th>\n",
       "      <th>Accept time</th>\n",
       "      <th>Abandon time</th>\n",
       "    </tr>\n",
       "    <tr>\n",
       "      <th>Period</th>\n",
       "      <th></th>\n",
       "      <th></th>\n",
       "      <th></th>\n",
       "    </tr>\n",
       "  </thead>\n",
       "  <tbody>\n",
       "    <tr>\n",
       "      <th>2019-03-23</th>\n",
       "      <td>447</td>\n",
       "      <td>0</td>\n",
       "      <td>229</td>\n",
       "    </tr>\n",
       "    <tr>\n",
       "      <th>2019-03-24</th>\n",
       "      <td>403</td>\n",
       "      <td>0</td>\n",
       "      <td>182</td>\n",
       "    </tr>\n",
       "    <tr>\n",
       "      <th>2019-03-25</th>\n",
       "      <td>418</td>\n",
       "      <td>0</td>\n",
       "      <td>192</td>\n",
       "    </tr>\n",
       "    <tr>\n",
       "      <th>2019-03-26</th>\n",
       "      <td>357</td>\n",
       "      <td>0</td>\n",
       "      <td>146</td>\n",
       "    </tr>\n",
       "    <tr>\n",
       "      <th>2019-03-27</th>\n",
       "      <td>161</td>\n",
       "      <td>0</td>\n",
       "      <td>70</td>\n",
       "    </tr>\n",
       "    <tr>\n",
       "      <th>2019-03-28</th>\n",
       "      <td>115</td>\n",
       "      <td>0</td>\n",
       "      <td>52</td>\n",
       "    </tr>\n",
       "  </tbody>\n",
       "</table>\n",
       "</div>"
      ],
      "text/plain": [
       "            Create time  Accept time  Abandon time\n",
       "Period                                            \n",
       "2019-03-23          447            0           229\n",
       "2019-03-24          403            0           182\n",
       "2019-03-25          418            0           192\n",
       "2019-03-26          357            0           146\n",
       "2019-03-27          161            0            70\n",
       "2019-03-28          115            0            52"
      ]
     },
     "execution_count": 21,
     "metadata": {},
     "output_type": "execute_result"
    }
   ],
   "source": [
    "# Looking at which period there were no accepted called\n",
    "\n",
    "timeline[timeline['Accept time'] == 0]\n",
    "\n",
    "# No calls accepted between 23/03 - 28/03"
   ]
  },
  {
   "cell_type": "code",
   "execution_count": 22,
   "metadata": {},
   "outputs": [
    {
     "data": {
      "text/plain": [
       "Period      Direction\n",
       "2019-03-23  inbound      447\n",
       "2019-03-24  inbound      403\n",
       "2019-03-25  inbound      418\n",
       "2019-03-26  inbound      357\n",
       "2019-03-27  inbound      161\n",
       "2019-03-28  inbound      115\n",
       "dtype: int64"
      ]
     },
     "execution_count": 22,
     "metadata": {},
     "output_type": "execute_result"
    }
   ],
   "source": [
    "# Checking the direction of calls during the period where there were no accepted called\n",
    "\n",
    "noaccept = df_1[(df_1['Period_Month'] == 3) & (df_1['Period_Day'] >22) & (df_1['Period_Day']<29)]\n",
    "noaccept1 = noaccept[['Period' , 'Direction']].groupby(['Period' , 'Direction']).size()\n",
    "noaccept1\n",
    "\n",
    "# All calls were inbound (i.e. calls dialed by patients)"
   ]
  },
  {
   "cell_type": "code",
   "execution_count": 23,
   "metadata": {},
   "outputs": [
    {
     "data": {
      "image/png": "[encoded data removed]",
      "text/plain": [
       "<Figure size 432x288 with 1 Axes>"
      ]
     },
     "metadata": {
      "needs_background": "light"
     },
     "output_type": "display_data"
    }
   ],
   "source": [
    "timeline.plot()\n",
    "plt.show()"
   ]
  },
  {
   "cell_type": "code",
   "execution_count": 24,
   "metadata": {},
   "outputs": [
    {
     "data": {
      "text/html": [
       "<div>\n",
       "<style scoped>\n",
       "    .dataframe tbody tr th:only-of-type {\n",
       "        vertical-align: middle;\n",
       "    }\n",
       "\n",
       "    .dataframe tbody tr th {\n",
       "        vertical-align: top;\n",
       "    }\n",
       "\n",
       "    .dataframe thead th {\n",
       "        text-align: right;\n",
       "    }\n",
       "</style>\n",
       "<table border=\"1\" class=\"dataframe\">\n",
       "  <thead>\n",
       "    <tr style=\"text-align: right;\">\n",
       "      <th></th>\n",
       "      <th>Abandon</th>\n",
       "      <th>Accept</th>\n",
       "      <th>Abandon_rate</th>\n",
       "    </tr>\n",
       "    <tr>\n",
       "      <th>Period_int</th>\n",
       "      <th></th>\n",
       "      <th></th>\n",
       "      <th></th>\n",
       "    </tr>\n",
       "  </thead>\n",
       "  <tbody>\n",
       "    <tr>\n",
       "      <th>32</th>\n",
       "      <td>271</td>\n",
       "      <td>828</td>\n",
       "      <td>0.246588</td>\n",
       "    </tr>\n",
       "    <tr>\n",
       "      <th>33</th>\n",
       "      <td>248</td>\n",
       "      <td>741</td>\n",
       "      <td>0.250758</td>\n",
       "    </tr>\n",
       "    <tr>\n",
       "      <th>34</th>\n",
       "      <td>253</td>\n",
       "      <td>862</td>\n",
       "      <td>0.226906</td>\n",
       "    </tr>\n",
       "    <tr>\n",
       "      <th>35</th>\n",
       "      <td>256</td>\n",
       "      <td>743</td>\n",
       "      <td>0.256256</td>\n",
       "    </tr>\n",
       "    <tr>\n",
       "      <th>36</th>\n",
       "      <td>206</td>\n",
       "      <td>641</td>\n",
       "      <td>0.243211</td>\n",
       "    </tr>\n",
       "    <tr>\n",
       "      <th>...</th>\n",
       "      <td>...</td>\n",
       "      <td>...</td>\n",
       "      <td>...</td>\n",
       "    </tr>\n",
       "    <tr>\n",
       "      <th>113</th>\n",
       "      <td>582</td>\n",
       "      <td>799</td>\n",
       "      <td>0.421434</td>\n",
       "    </tr>\n",
       "    <tr>\n",
       "      <th>114</th>\n",
       "      <td>232</td>\n",
       "      <td>383</td>\n",
       "      <td>0.377236</td>\n",
       "    </tr>\n",
       "    <tr>\n",
       "      <th>115</th>\n",
       "      <td>163</td>\n",
       "      <td>244</td>\n",
       "      <td>0.400491</td>\n",
       "    </tr>\n",
       "    <tr>\n",
       "      <th>116</th>\n",
       "      <td>652</td>\n",
       "      <td>911</td>\n",
       "      <td>0.417147</td>\n",
       "    </tr>\n",
       "    <tr>\n",
       "      <th>117</th>\n",
       "      <td>750</td>\n",
       "      <td>929</td>\n",
       "      <td>0.446694</td>\n",
       "    </tr>\n",
       "  </tbody>\n",
       "</table>\n",
       "<p>86 rows × 3 columns</p>\n",
       "</div>"
      ],
      "text/plain": [
       "            Abandon  Accept  Abandon_rate\n",
       "Period_int                               \n",
       "32              271     828      0.246588\n",
       "33              248     741      0.250758\n",
       "34              253     862      0.226906\n",
       "35              256     743      0.256256\n",
       "36              206     641      0.243211\n",
       "...             ...     ...           ...\n",
       "113             582     799      0.421434\n",
       "114             232     383      0.377236\n",
       "115             163     244      0.400491\n",
       "116             652     911      0.417147\n",
       "117             750     929      0.446694\n",
       "\n",
       "[86 rows x 3 columns]"
      ]
     },
     "execution_count": 24,
     "metadata": {},
     "output_type": "execute_result"
    }
   ],
   "source": [
    "# Exploring whether there as been a significant change in abandonment rate\n",
    "# Fit a linear regression model with and without the period with no calls\n",
    "\n",
    "reg_full = filtered_time[['Period_int' , 'Abandon' , 'Accept']].groupby(['Period_int']).sum()\n",
    "reg_full['Abandon_rate'] = reg_full['Abandon'] / (reg_full['Accept'] + reg_full['Abandon'])\n",
    "reg_full"
   ]
  },
  {
   "cell_type": "code",
   "execution_count": 25,
   "metadata": {},
   "outputs": [
    {
     "data": {
      "text/html": [
       "<div>\n",
       "<style scoped>\n",
       "    .dataframe tbody tr th:only-of-type {\n",
       "        vertical-align: middle;\n",
       "    }\n",
       "\n",
       "    .dataframe tbody tr th {\n",
       "        vertical-align: top;\n",
       "    }\n",
       "\n",
       "    .dataframe thead th {\n",
       "        text-align: right;\n",
       "    }\n",
       "</style>\n",
       "<table border=\"1\" class=\"dataframe\">\n",
       "  <thead>\n",
       "    <tr style=\"text-align: right;\">\n",
       "      <th></th>\n",
       "      <th>Abandon</th>\n",
       "      <th>Accept</th>\n",
       "      <th>Abandon_rate</th>\n",
       "    </tr>\n",
       "    <tr>\n",
       "      <th>Period_int</th>\n",
       "      <th></th>\n",
       "      <th></th>\n",
       "      <th></th>\n",
       "    </tr>\n",
       "  </thead>\n",
       "  <tbody>\n",
       "    <tr>\n",
       "      <th>52</th>\n",
       "      <td>73</td>\n",
       "      <td>305</td>\n",
       "      <td>0.193122</td>\n",
       "    </tr>\n",
       "    <tr>\n",
       "      <th>66</th>\n",
       "      <td>62</td>\n",
       "      <td>250</td>\n",
       "      <td>0.198718</td>\n",
       "    </tr>\n",
       "  </tbody>\n",
       "</table>\n",
       "</div>"
      ],
      "text/plain": [
       "            Abandon  Accept  Abandon_rate\n",
       "Period_int                               \n",
       "52               73     305      0.193122\n",
       "66               62     250      0.198718"
      ]
     },
     "execution_count": 25,
     "metadata": {},
     "output_type": "execute_result"
    }
   ],
   "source": [
    "# Did the abandonment rate ever reach the targer?\n",
    "\n",
    "reg_full[reg_full['Abandon_rate'] < 0.20]"
   ]
  },
  {
   "cell_type": "code",
   "execution_count": 26,
   "metadata": {},
   "outputs": [],
   "source": [
    "reg_full = reg_full.reset_index()"
   ]
  },
  {
   "cell_type": "code",
   "execution_count": 27,
   "metadata": {},
   "outputs": [
    {
     "name": "stdout",
     "output_type": "stream",
     "text": [
      "[0.23197234 0.23570434 0.23943634 0.24316835 0.24690035 0.25063235\n",
      " 0.25436436 0.25809636 0.26182836 0.26556037 0.26929237 0.27302437\n",
      " 0.27675638 0.28048838 0.28422039 0.28795239 0.29168439 0.2954164\n",
      " 0.2991484  0.3028804  0.30661241 0.31034441 0.31407641 0.31780842\n",
      " 0.32154042 0.32527243 0.32900443 0.33273643 0.33646844 0.34020044\n",
      " 0.34393244 0.34766445 0.35139645 0.35512845 0.35886046 0.36259246\n",
      " 0.36632446 0.37005647 0.37378847 0.37752048 0.38125248 0.38498448\n",
      " 0.38871649 0.39244849 0.39618049 0.3999125  0.4036445  0.4073765\n",
      " 0.41110851 0.41484051 0.41857251 0.42230452 0.42603652 0.42976853\n",
      " 0.43350053 0.43723253 0.44096454 0.44469654 0.44842854 0.45216055\n",
      " 0.45589255 0.45962455 0.46335656 0.46708856 0.47082057 0.47455257\n",
      " 0.47828457 0.48201658 0.48574858 0.48948058 0.49321259 0.49694459\n",
      " 0.50067659 0.5044086  0.5081406  0.5118726  0.51560461 0.51933661\n",
      " 0.52306862 0.52680062 0.53053262 0.53426463 0.53799663 0.54172863\n",
      " 0.54546064 0.54919264]\n"
     ]
    }
   ],
   "source": [
    "model = linear_model.LinearRegression().fit(reg_full[['Period_int']], reg_full['Abandon_rate'])\n",
    "\n",
    "p1 = model.predict(reg_full[['Period_int']])\n",
    "print(p1)"
   ]
  },
  {
   "cell_type": "code",
   "execution_count": 28,
   "metadata": {},
   "outputs": [],
   "source": [
    "from scipy import stats"
   ]
  },
  {
   "cell_type": "code",
   "execution_count": 29,
   "metadata": {},
   "outputs": [],
   "source": [
    "y1 = reg_full['Abandon_rate'].to_numpy()"
   ]
  },
  {
   "cell_type": "code",
   "execution_count": 30,
   "metadata": {},
   "outputs": [
    {
     "data": {
      "text/plain": [
       "Ttest_indResult(statistic=-4.803383327258978e-15, pvalue=0.9999999999999962)"
      ]
     },
     "execution_count": 30,
     "metadata": {},
     "output_type": "execute_result"
    }
   ],
   "source": [
    "stats.ttest_ind(p1, y1)"
   ]
  },
  {
   "cell_type": "code",
   "execution_count": 31,
   "metadata": {},
   "outputs": [
    {
     "name": "stdout",
     "output_type": "stream",
     "text": [
      "Coefficients: \n",
      " [0.003732]\n",
      "Intercept: \n",
      " 0.11254822035839845\n"
     ]
    }
   ],
   "source": [
    "# The coefficients\n",
    "print('Coefficients: \\n', model.coef_)\n",
    "print('Intercept: \\n', model.intercept_)"
   ]
  },
  {
   "cell_type": "code",
   "execution_count": 32,
   "metadata": {},
   "outputs": [
    {
     "name": "stdout",
     "output_type": "stream",
     "text": [
      "Mean squared error: 0.03\n"
     ]
    }
   ],
   "source": [
    "# The mean squared error\n",
    "print('Mean squared error: %.2f'\n",
    "      % mean_squared_error(reg_full['Abandon_rate'], p1))"
   ]
  },
  {
   "cell_type": "code",
   "execution_count": 33,
   "metadata": {},
   "outputs": [
    {
     "name": "stdout",
     "output_type": "stream",
     "text": [
      "Coefficient of determination: 0.23\n"
     ]
    }
   ],
   "source": [
    "# The coefficient of determination: 1 is perfect prediction\n",
    "print('Coefficient of determination: %.2f'\n",
    "      % r2_score(reg_full['Abandon_rate'], p1))"
   ]
  },
  {
   "cell_type": "code",
   "execution_count": 34,
   "metadata": {},
   "outputs": [
    {
     "data": {
      "image/png": "[encoded data removed]",
      "text/plain": [
       "<Figure size 432x288 with 1 Axes>"
      ]
     },
     "metadata": {},
     "output_type": "display_data"
    }
   ],
   "source": [
    "# Plot outputs\n",
    "plt.scatter(reg_full[['Period_int']], reg_full['Abandon_rate'],  color='black')\n",
    "plt.plot(reg_full[['Period_int']], p1, color='blue', linewidth=3)\n",
    "\n",
    "plt.xticks(())\n",
    "plt.yticks(())\n",
    "\n",
    "plt.show()"
   ]
  },
  {
   "cell_type": "code",
   "execution_count": 35,
   "metadata": {},
   "outputs": [],
   "source": [
    "# Create dataframe with Period from 01/02 without randonment rates = 1\n",
    "\n",
    "reg = filtered_time[['Period_int' , 'Period_Month' , 'Period_Day' , 'Abandon' , 'Accept']].groupby(['Period_int' , 'Period_Month' , 'Period_Day']).sum()\n",
    "reg['Abandon_rate'] = reg['Abandon'] / (reg['Accept'] + reg['Abandon'])"
   ]
  },
  {
   "cell_type": "code",
   "execution_count": 36,
   "metadata": {},
   "outputs": [],
   "source": [
    "reg = reg.reset_index()"
   ]
  },
  {
   "cell_type": "code",
   "execution_count": 37,
   "metadata": {},
   "outputs": [
    {
     "data": {
      "text/html": [
       "<div>\n",
       "<style scoped>\n",
       "    .dataframe tbody tr th:only-of-type {\n",
       "        vertical-align: middle;\n",
       "    }\n",
       "\n",
       "    .dataframe tbody tr th {\n",
       "        vertical-align: top;\n",
       "    }\n",
       "\n",
       "    .dataframe thead th {\n",
       "        text-align: right;\n",
       "    }\n",
       "</style>\n",
       "<table border=\"1\" class=\"dataframe\">\n",
       "  <thead>\n",
       "    <tr style=\"text-align: right;\">\n",
       "      <th></th>\n",
       "      <th>Period_int</th>\n",
       "      <th>Period_Month</th>\n",
       "      <th>Period_Day</th>\n",
       "      <th>Abandon</th>\n",
       "      <th>Accept</th>\n",
       "      <th>Abandon_rate</th>\n",
       "    </tr>\n",
       "  </thead>\n",
       "  <tbody>\n",
       "    <tr>\n",
       "      <th>0</th>\n",
       "      <td>32</td>\n",
       "      <td>2</td>\n",
       "      <td>1</td>\n",
       "      <td>271</td>\n",
       "      <td>828</td>\n",
       "      <td>0.246588</td>\n",
       "    </tr>\n",
       "    <tr>\n",
       "      <th>1</th>\n",
       "      <td>33</td>\n",
       "      <td>2</td>\n",
       "      <td>2</td>\n",
       "      <td>248</td>\n",
       "      <td>741</td>\n",
       "      <td>0.250758</td>\n",
       "    </tr>\n",
       "    <tr>\n",
       "      <th>2</th>\n",
       "      <td>34</td>\n",
       "      <td>2</td>\n",
       "      <td>3</td>\n",
       "      <td>253</td>\n",
       "      <td>862</td>\n",
       "      <td>0.226906</td>\n",
       "    </tr>\n",
       "    <tr>\n",
       "      <th>3</th>\n",
       "      <td>35</td>\n",
       "      <td>2</td>\n",
       "      <td>4</td>\n",
       "      <td>256</td>\n",
       "      <td>743</td>\n",
       "      <td>0.256256</td>\n",
       "    </tr>\n",
       "    <tr>\n",
       "      <th>4</th>\n",
       "      <td>36</td>\n",
       "      <td>2</td>\n",
       "      <td>5</td>\n",
       "      <td>206</td>\n",
       "      <td>641</td>\n",
       "      <td>0.243211</td>\n",
       "    </tr>\n",
       "    <tr>\n",
       "      <th>...</th>\n",
       "      <td>...</td>\n",
       "      <td>...</td>\n",
       "      <td>...</td>\n",
       "      <td>...</td>\n",
       "      <td>...</td>\n",
       "      <td>...</td>\n",
       "    </tr>\n",
       "    <tr>\n",
       "      <th>81</th>\n",
       "      <td>113</td>\n",
       "      <td>4</td>\n",
       "      <td>23</td>\n",
       "      <td>582</td>\n",
       "      <td>799</td>\n",
       "      <td>0.421434</td>\n",
       "    </tr>\n",
       "    <tr>\n",
       "      <th>82</th>\n",
       "      <td>114</td>\n",
       "      <td>4</td>\n",
       "      <td>24</td>\n",
       "      <td>232</td>\n",
       "      <td>383</td>\n",
       "      <td>0.377236</td>\n",
       "    </tr>\n",
       "    <tr>\n",
       "      <th>83</th>\n",
       "      <td>115</td>\n",
       "      <td>4</td>\n",
       "      <td>25</td>\n",
       "      <td>163</td>\n",
       "      <td>244</td>\n",
       "      <td>0.400491</td>\n",
       "    </tr>\n",
       "    <tr>\n",
       "      <th>84</th>\n",
       "      <td>116</td>\n",
       "      <td>4</td>\n",
       "      <td>26</td>\n",
       "      <td>652</td>\n",
       "      <td>911</td>\n",
       "      <td>0.417147</td>\n",
       "    </tr>\n",
       "    <tr>\n",
       "      <th>85</th>\n",
       "      <td>117</td>\n",
       "      <td>4</td>\n",
       "      <td>27</td>\n",
       "      <td>750</td>\n",
       "      <td>929</td>\n",
       "      <td>0.446694</td>\n",
       "    </tr>\n",
       "  </tbody>\n",
       "</table>\n",
       "<p>80 rows × 6 columns</p>\n",
       "</div>"
      ],
      "text/plain": [
       "    Period_int  Period_Month  Period_Day  Abandon  Accept  Abandon_rate\n",
       "0           32             2           1      271     828      0.246588\n",
       "1           33             2           2      248     741      0.250758\n",
       "2           34             2           3      253     862      0.226906\n",
       "3           35             2           4      256     743      0.256256\n",
       "4           36             2           5      206     641      0.243211\n",
       "..         ...           ...         ...      ...     ...           ...\n",
       "81         113             4          23      582     799      0.421434\n",
       "82         114             4          24      232     383      0.377236\n",
       "83         115             4          25      163     244      0.400491\n",
       "84         116             4          26      652     911      0.417147\n",
       "85         117             4          27      750     929      0.446694\n",
       "\n",
       "[80 rows x 6 columns]"
      ]
     },
     "execution_count": 37,
     "metadata": {},
     "output_type": "execute_result"
    }
   ],
   "source": [
    "reg2 = reg[((reg['Period_int'] < 82) | (reg['Period_int'] > 87))]\n",
    "reg2"
   ]
  },
  {
   "cell_type": "code",
   "execution_count": 38,
   "metadata": {},
   "outputs": [
    {
     "data": {
      "text/html": [
       "<div>\n",
       "<style scoped>\n",
       "    .dataframe tbody tr th:only-of-type {\n",
       "        vertical-align: middle;\n",
       "    }\n",
       "\n",
       "    .dataframe tbody tr th {\n",
       "        vertical-align: top;\n",
       "    }\n",
       "\n",
       "    .dataframe thead th {\n",
       "        text-align: right;\n",
       "    }\n",
       "</style>\n",
       "<table border=\"1\" class=\"dataframe\">\n",
       "  <thead>\n",
       "    <tr style=\"text-align: right;\">\n",
       "      <th></th>\n",
       "      <th>Period_int</th>\n",
       "      <th>Period_Month</th>\n",
       "      <th>Period_Day</th>\n",
       "      <th>Abandon</th>\n",
       "      <th>Accept</th>\n",
       "      <th>Abandon_rate</th>\n",
       "    </tr>\n",
       "  </thead>\n",
       "  <tbody>\n",
       "  </tbody>\n",
       "</table>\n",
       "</div>"
      ],
      "text/plain": [
       "Empty DataFrame\n",
       "Columns: [Period_int, Period_Month, Period_Day, Abandon, Accept, Abandon_rate]\n",
       "Index: []"
      ]
     },
     "execution_count": 38,
     "metadata": {},
     "output_type": "execute_result"
    }
   ],
   "source": [
    "# Looking at any abandonment rates = 1\n",
    "\n",
    "reg2[reg2['Abandon_rate'] == 1.00]"
   ]
  },
  {
   "cell_type": "code",
   "execution_count": 39,
   "metadata": {},
   "outputs": [
    {
     "name": "stdout",
     "output_type": "stream",
     "text": [
      "[0.21844995 0.22147813 0.2245063  0.22753447 0.23056265 0.23359082\n",
      " 0.23661899 0.23964716 0.24267534 0.24570351 0.24873168 0.25175986\n",
      " 0.25478803 0.2578162  0.26084438 0.26387255 0.26690072 0.26992889\n",
      " 0.27295707 0.27598524 0.27901341 0.28204159 0.28506976 0.28809793\n",
      " 0.2911261  0.29415428 0.29718245 0.30021062 0.3032388  0.30626697\n",
      " 0.30929514 0.31232332 0.31535149 0.31837966 0.32140783 0.32443601\n",
      " 0.32746418 0.33049235 0.33352053 0.3365487  0.33957687 0.34260504\n",
      " 0.34563322 0.34866139 0.35168956 0.35471774 0.35774591 0.36077408\n",
      " 0.36380226 0.36683043 0.38802764 0.39105581 0.39408398 0.39711216\n",
      " 0.40014033 0.4031685  0.40619668 0.40922485 0.41225302 0.4152812\n",
      " 0.41830937 0.42133754 0.42436571 0.42739389 0.43042206 0.43345023\n",
      " 0.43647841 0.43950658 0.44253475 0.44556292 0.4485911  0.45161927\n",
      " 0.45464744 0.45767562 0.46070379 0.46373196 0.46676014 0.46978831\n",
      " 0.47281648 0.47584465]\n"
     ]
    }
   ],
   "source": [
    "model2 = linear_model.LinearRegression().fit(reg2[['Period_int']], reg2['Abandon_rate'])\n",
    "\n",
    "p2 = model2.predict(reg2[['Period_int']])\n",
    "print(p2)"
   ]
  },
  {
   "cell_type": "code",
   "execution_count": 40,
   "metadata": {},
   "outputs": [],
   "source": [
    "y2 = reg2['Abandon_rate'].to_numpy()"
   ]
  },
  {
   "cell_type": "code",
   "execution_count": 41,
   "metadata": {},
   "outputs": [
    {
     "data": {
      "text/plain": [
       "Ttest_indResult(statistic=0.0, pvalue=1.0)"
      ]
     },
     "execution_count": 41,
     "metadata": {},
     "output_type": "execute_result"
    }
   ],
   "source": [
    "stats.ttest_ind(p2, y2)"
   ]
  },
  {
   "cell_type": "code",
   "execution_count": 42,
   "metadata": {},
   "outputs": [
    {
     "name": "stdout",
     "output_type": "stream",
     "text": [
      "Coefficients: \n",
      " 0.003028172941337307\n",
      "Intercept: \n",
      " 0.1215484201973217\n"
     ]
    }
   ],
   "source": [
    "# The coefficients\n",
    "\n",
    "print('Coefficients: \\n', model2.coef_[0])\n",
    "print('Intercept: \\n', model2.intercept_)"
   ]
  },
  {
   "cell_type": "code",
   "execution_count": 43,
   "metadata": {},
   "outputs": [
    {
     "name": "stdout",
     "output_type": "stream",
     "text": [
      "Mean squared error: 0.00\n"
     ]
    }
   ],
   "source": [
    "# The mean squared error\n",
    "\n",
    "print('Mean squared error: %.2f'\n",
    "      % mean_squared_error(reg2['Abandon_rate'], p2))"
   ]
  },
  {
   "cell_type": "code",
   "execution_count": 44,
   "metadata": {},
   "outputs": [
    {
     "name": "stdout",
     "output_type": "stream",
     "text": [
      "Coefficient of determination: 0.62\n"
     ]
    }
   ],
   "source": [
    "# The coefficient of determination: 1 is perfect prediction\n",
    "print('Coefficient of determination: %.2f'\n",
    "      % r2_score(reg2['Abandon_rate'], p2))"
   ]
  },
  {
   "cell_type": "code",
   "execution_count": 45,
   "metadata": {},
   "outputs": [
    {
     "data": {
      "image/png": "[encoded data removed]",
      "text/plain": [
       "<Figure size 432x288 with 1 Axes>"
      ]
     },
     "metadata": {},
     "output_type": "display_data"
    }
   ],
   "source": [
    "# Plot outputs\n",
    "plt.scatter(reg2[['Period_int']], reg2['Abandon_rate'],  color='black')\n",
    "plt.plot(reg2[['Period_int']], p2, color='blue', linewidth=3)\n",
    "\n",
    "plt.xticks(())\n",
    "plt.yticks(())\n",
    "\n",
    "plt.show()"
   ]
  },
  {
   "cell_type": "code",
   "execution_count": 46,
   "metadata": {},
   "outputs": [
    {
     "data": {
      "text/html": [
       "<div>\n",
       "<style scoped>\n",
       "    .dataframe tbody tr th:only-of-type {\n",
       "        vertical-align: middle;\n",
       "    }\n",
       "\n",
       "    .dataframe tbody tr th {\n",
       "        vertical-align: top;\n",
       "    }\n",
       "\n",
       "    .dataframe thead th {\n",
       "        text-align: right;\n",
       "    }\n",
       "</style>\n",
       "<table border=\"1\" class=\"dataframe\">\n",
       "  <thead>\n",
       "    <tr style=\"text-align: right;\">\n",
       "      <th></th>\n",
       "      <th>appt_date</th>\n",
       "      <th>modality</th>\n",
       "      <th>medium</th>\n",
       "      <th>consultant_type</th>\n",
       "      <th>state</th>\n",
       "      <th>count_appts</th>\n",
       "    </tr>\n",
       "  </thead>\n",
       "  <tbody>\n",
       "    <tr>\n",
       "      <th>0</th>\n",
       "      <td>2019-04-25</td>\n",
       "      <td>digital</td>\n",
       "      <td>voice</td>\n",
       "      <td>GP</td>\n",
       "      <td>no_show</td>\n",
       "      <td>3</td>\n",
       "    </tr>\n",
       "    <tr>\n",
       "      <th>1</th>\n",
       "      <td>2019-04-25</td>\n",
       "      <td>digital</td>\n",
       "      <td>video</td>\n",
       "      <td>GP</td>\n",
       "      <td>no_show</td>\n",
       "      <td>12</td>\n",
       "    </tr>\n",
       "    <tr>\n",
       "      <th>2</th>\n",
       "      <td>2019-04-25</td>\n",
       "      <td>digital</td>\n",
       "      <td>video</td>\n",
       "      <td>GP</td>\n",
       "      <td>completed</td>\n",
       "      <td>178</td>\n",
       "    </tr>\n",
       "    <tr>\n",
       "      <th>3</th>\n",
       "      <td>2019-04-25</td>\n",
       "      <td>digital</td>\n",
       "      <td>voice</td>\n",
       "      <td>GP</td>\n",
       "      <td>cancelled</td>\n",
       "      <td>52</td>\n",
       "    </tr>\n",
       "    <tr>\n",
       "      <th>4</th>\n",
       "      <td>2019-04-25</td>\n",
       "      <td>digital</td>\n",
       "      <td>video</td>\n",
       "      <td>GP</td>\n",
       "      <td>paid</td>\n",
       "      <td>2</td>\n",
       "    </tr>\n",
       "    <tr>\n",
       "      <th>...</th>\n",
       "      <td>...</td>\n",
       "      <td>...</td>\n",
       "      <td>...</td>\n",
       "      <td>...</td>\n",
       "      <td>...</td>\n",
       "      <td>...</td>\n",
       "    </tr>\n",
       "    <tr>\n",
       "      <th>3125</th>\n",
       "      <td>2019-02-01</td>\n",
       "      <td>digital</td>\n",
       "      <td>voice</td>\n",
       "      <td>GP</td>\n",
       "      <td>cancelled</td>\n",
       "      <td>0</td>\n",
       "    </tr>\n",
       "    <tr>\n",
       "      <th>3126</th>\n",
       "      <td>2019-02-01</td>\n",
       "      <td>digital</td>\n",
       "      <td>voice</td>\n",
       "      <td>Therapist</td>\n",
       "      <td>cancelled</td>\n",
       "      <td>3</td>\n",
       "    </tr>\n",
       "    <tr>\n",
       "      <th>3127</th>\n",
       "      <td>2019-02-01</td>\n",
       "      <td>digital</td>\n",
       "      <td>video</td>\n",
       "      <td>Therapist</td>\n",
       "      <td>timed_out</td>\n",
       "      <td>0</td>\n",
       "    </tr>\n",
       "    <tr>\n",
       "      <th>3128</th>\n",
       "      <td>2019-02-01</td>\n",
       "      <td>digital</td>\n",
       "      <td>video</td>\n",
       "      <td>GP</td>\n",
       "      <td>timed_out</td>\n",
       "      <td>18</td>\n",
       "    </tr>\n",
       "    <tr>\n",
       "      <th>3129</th>\n",
       "      <td>2019-02-01</td>\n",
       "      <td>digital</td>\n",
       "      <td>voice</td>\n",
       "      <td>GP</td>\n",
       "      <td>timed_out</td>\n",
       "      <td>5</td>\n",
       "    </tr>\n",
       "  </tbody>\n",
       "</table>\n",
       "<p>3130 rows × 6 columns</p>\n",
       "</div>"
      ],
      "text/plain": [
       "      appt_date modality medium consultant_type      state  count_appts\n",
       "0    2019-04-25  digital  voice              GP    no_show            3\n",
       "1    2019-04-25  digital  video              GP    no_show           12\n",
       "2    2019-04-25  digital  video              GP  completed          178\n",
       "3    2019-04-25  digital  voice              GP  cancelled           52\n",
       "4    2019-04-25  digital  video              GP       paid            2\n",
       "...         ...      ...    ...             ...        ...          ...\n",
       "3125 2019-02-01  digital  voice              GP  cancelled            0\n",
       "3126 2019-02-01  digital  voice       Therapist  cancelled            3\n",
       "3127 2019-02-01  digital  video       Therapist  timed_out            0\n",
       "3128 2019-02-01  digital  video              GP  timed_out           18\n",
       "3129 2019-02-01  digital  voice              GP  timed_out            5\n",
       "\n",
       "[3130 rows x 6 columns]"
      ]
     },
     "execution_count": 46,
     "metadata": {},
     "output_type": "execute_result"
    }
   ],
   "source": [
    "# # # # # # # # # # # # # # # # # # # \n",
    "# Now analysing sheet 2\n",
    "\n",
    "df_2"
   ]
  },
  {
   "cell_type": "code",
   "execution_count": 47,
   "metadata": {},
   "outputs": [
    {
     "name": "stdout",
     "output_type": "stream",
     "text": [
      "[2019]\n"
     ]
    }
   ],
   "source": [
    "print(df_2[\"appt_date\"].dt.year.unique())\n",
    "# All in 2019 - focus on extracting month and day "
   ]
  },
  {
   "cell_type": "code",
   "execution_count": 48,
   "metadata": {},
   "outputs": [],
   "source": [
    "# Generating Month and Day columns\n",
    "\n",
    "df_2[\"appt_month\"] = df_2[\"appt_date\"].dt.month\n",
    "df_2[\"appt_day\"] = df_2[\"appt_date\"].dt.day"
   ]
  },
  {
   "cell_type": "code",
   "execution_count": 49,
   "metadata": {},
   "outputs": [
    {
     "name": "stdout",
     "output_type": "stream",
     "text": [
      "[4 3 2]\n"
     ]
    }
   ],
   "source": [
    "# Period to look at is 01/02/19 to 27/04/19\n",
    "# Checking for any observations outside this range\n",
    "\n",
    "print(df_2[\"appt_month\"].unique())\n",
    "\n",
    "# All appointments in the analysis period - good "
   ]
  },
  {
   "cell_type": "code",
   "execution_count": 50,
   "metadata": {},
   "outputs": [],
   "source": [
    "# Create data frame\n",
    "\n",
    "summ_appt = df_2[[\"appt_date\" , \"state\" , \"count_appts\"]].groupby([\"appt_date\" , \"state\"]).sum()\n",
    "summ_appt = summ_appt.reset_index()"
   ]
  },
  {
   "cell_type": "code",
   "execution_count": 51,
   "metadata": {},
   "outputs": [
    {
     "data": {
      "text/html": [
       "<div>\n",
       "<style scoped>\n",
       "    .dataframe tbody tr th:only-of-type {\n",
       "        vertical-align: middle;\n",
       "    }\n",
       "\n",
       "    .dataframe tbody tr th {\n",
       "        vertical-align: top;\n",
       "    }\n",
       "\n",
       "    .dataframe thead th {\n",
       "        text-align: right;\n",
       "    }\n",
       "</style>\n",
       "<table border=\"1\" class=\"dataframe\">\n",
       "  <thead>\n",
       "    <tr style=\"text-align: right;\">\n",
       "      <th></th>\n",
       "      <th>appt_date</th>\n",
       "      <th>state</th>\n",
       "      <th>count_appts</th>\n",
       "    </tr>\n",
       "  </thead>\n",
       "  <tbody>\n",
       "    <tr>\n",
       "      <th>0</th>\n",
       "      <td>2019-02-01</td>\n",
       "      <td>cancelled</td>\n",
       "      <td>256</td>\n",
       "    </tr>\n",
       "    <tr>\n",
       "      <th>1</th>\n",
       "      <td>2019-02-01</td>\n",
       "      <td>completed</td>\n",
       "      <td>999</td>\n",
       "    </tr>\n",
       "    <tr>\n",
       "      <th>2</th>\n",
       "      <td>2019-02-01</td>\n",
       "      <td>no_show</td>\n",
       "      <td>67</td>\n",
       "    </tr>\n",
       "    <tr>\n",
       "      <th>3</th>\n",
       "      <td>2019-02-01</td>\n",
       "      <td>paid</td>\n",
       "      <td>0</td>\n",
       "    </tr>\n",
       "    <tr>\n",
       "      <th>4</th>\n",
       "      <td>2019-02-01</td>\n",
       "      <td>timed_out</td>\n",
       "      <td>23</td>\n",
       "    </tr>\n",
       "    <tr>\n",
       "      <th>...</th>\n",
       "      <td>...</td>\n",
       "      <td>...</td>\n",
       "      <td>...</td>\n",
       "    </tr>\n",
       "    <tr>\n",
       "      <th>409</th>\n",
       "      <td>2019-04-25</td>\n",
       "      <td>cancelled</td>\n",
       "      <td>140</td>\n",
       "    </tr>\n",
       "    <tr>\n",
       "      <th>410</th>\n",
       "      <td>2019-04-25</td>\n",
       "      <td>completed</td>\n",
       "      <td>482</td>\n",
       "    </tr>\n",
       "    <tr>\n",
       "      <th>411</th>\n",
       "      <td>2019-04-25</td>\n",
       "      <td>no_show</td>\n",
       "      <td>39</td>\n",
       "    </tr>\n",
       "    <tr>\n",
       "      <th>412</th>\n",
       "      <td>2019-04-25</td>\n",
       "      <td>paid</td>\n",
       "      <td>2</td>\n",
       "    </tr>\n",
       "    <tr>\n",
       "      <th>413</th>\n",
       "      <td>2019-04-25</td>\n",
       "      <td>timed_out</td>\n",
       "      <td>6</td>\n",
       "    </tr>\n",
       "  </tbody>\n",
       "</table>\n",
       "<p>414 rows × 3 columns</p>\n",
       "</div>"
      ],
      "text/plain": [
       "     appt_date      state  count_appts\n",
       "0   2019-02-01  cancelled          256\n",
       "1   2019-02-01  completed          999\n",
       "2   2019-02-01    no_show           67\n",
       "3   2019-02-01       paid            0\n",
       "4   2019-02-01  timed_out           23\n",
       "..         ...        ...          ...\n",
       "409 2019-04-25  cancelled          140\n",
       "410 2019-04-25  completed          482\n",
       "411 2019-04-25    no_show           39\n",
       "412 2019-04-25       paid            2\n",
       "413 2019-04-25  timed_out            6\n",
       "\n",
       "[414 rows x 3 columns]"
      ]
     },
     "execution_count": 51,
     "metadata": {},
     "output_type": "execute_result"
    }
   ],
   "source": [
    "summ_appt"
   ]
  },
  {
   "cell_type": "code",
   "execution_count": 52,
   "metadata": {},
   "outputs": [
    {
     "data": {
      "image/png": "[encoded data removed]",
      "text/plain": [
       "<Figure size 432x288 with 1 Axes>"
      ]
     },
     "metadata": {
      "needs_background": "light"
     },
     "output_type": "display_data"
    }
   ],
   "source": [
    "plt.plot(summ_appt[summ_appt['state']==\"cancelled\"][\"appt_date\"] , summ_appt[summ_appt['state']==\"cancelled\"][\"count_appts\"], label='cancelled')\n",
    "plt.plot(summ_appt[summ_appt['state']==\"no_show\"][\"appt_date\"] , summ_appt[summ_appt['state']==\"no_show\"][\"count_appts\"], label='no_show')\n",
    "plt.plot(summ_appt[summ_appt['state']==\"paid\"][\"appt_date\"] , summ_appt[summ_appt['state']==\"paid\"][\"count_appts\"], label='paid')\n",
    "plt.plot(summ_appt[summ_appt['state']==\"timed_out\"][\"appt_date\"] , summ_appt[summ_appt['state']==\"timed_out\"][\"count_appts\"], label='timed_out')\n",
    "plt.plot(summ_appt[summ_appt['state']==\"completed\"][\"appt_date\"] , summ_appt[summ_appt['state']==\"completed\"][\"count_appts\"], label='completed')\n",
    "\n",
    "plt.legend()\n",
    "plt.show()"
   ]
  },
  {
   "cell_type": "code",
   "execution_count": 53,
   "metadata": {},
   "outputs": [
    {
     "data": {
      "text/html": [
       "<div>\n",
       "<style scoped>\n",
       "    .dataframe tbody tr th:only-of-type {\n",
       "        vertical-align: middle;\n",
       "    }\n",
       "\n",
       "    .dataframe tbody tr th {\n",
       "        vertical-align: top;\n",
       "    }\n",
       "\n",
       "    .dataframe thead th {\n",
       "        text-align: right;\n",
       "    }\n",
       "</style>\n",
       "<table border=\"1\" class=\"dataframe\">\n",
       "  <thead>\n",
       "    <tr style=\"text-align: right;\">\n",
       "      <th></th>\n",
       "      <th>Period</th>\n",
       "      <th>Type</th>\n",
       "      <th>Create time</th>\n",
       "      <th>Direction</th>\n",
       "      <th>Accept time</th>\n",
       "      <th>Total time processing transaction</th>\n",
       "      <th>Total time on post processing</th>\n",
       "      <th>Abandon time</th>\n",
       "      <th>IVR Treatment Time</th>\n",
       "      <th>Tagged category</th>\n",
       "      <th>Period_Month</th>\n",
       "      <th>Period_Day</th>\n",
       "      <th>Abandon</th>\n",
       "      <th>Accept</th>\n",
       "      <th>Period_int</th>\n",
       "      <th>Post</th>\n",
       "    </tr>\n",
       "  </thead>\n",
       "  <tbody>\n",
       "    <tr>\n",
       "      <th>0</th>\n",
       "      <td>2019-03-29</td>\n",
       "      <td>Call</td>\n",
       "      <td>2019-03-29 16:45:37</td>\n",
       "      <td>outbound</td>\n",
       "      <td>2019-03-29 16:45:37</td>\n",
       "      <td>NaN</td>\n",
       "      <td>NaN</td>\n",
       "      <td>NaT</td>\n",
       "      <td>NaN</td>\n",
       "      <td>NaN</td>\n",
       "      <td>3</td>\n",
       "      <td>29</td>\n",
       "      <td>0</td>\n",
       "      <td>1</td>\n",
       "      <td>88</td>\n",
       "      <td>NaN</td>\n",
       "    </tr>\n",
       "    <tr>\n",
       "      <th>1</th>\n",
       "      <td>2019-03-29</td>\n",
       "      <td>Call</td>\n",
       "      <td>2019-03-29 15:22:13</td>\n",
       "      <td>outbound</td>\n",
       "      <td>2019-03-29 15:22:13</td>\n",
       "      <td>00:00:19</td>\n",
       "      <td>NaN</td>\n",
       "      <td>NaT</td>\n",
       "      <td>NaN</td>\n",
       "      <td>NaN</td>\n",
       "      <td>3</td>\n",
       "      <td>29</td>\n",
       "      <td>0</td>\n",
       "      <td>1</td>\n",
       "      <td>88</td>\n",
       "      <td>NaN</td>\n",
       "    </tr>\n",
       "    <tr>\n",
       "      <th>2</th>\n",
       "      <td>2019-03-29</td>\n",
       "      <td>Call</td>\n",
       "      <td>2019-03-29 09:16:10</td>\n",
       "      <td>outbound</td>\n",
       "      <td>2019-03-29 09:16:10</td>\n",
       "      <td>00:01:02</td>\n",
       "      <td>NaN</td>\n",
       "      <td>NaT</td>\n",
       "      <td>NaN</td>\n",
       "      <td>NaN</td>\n",
       "      <td>3</td>\n",
       "      <td>29</td>\n",
       "      <td>0</td>\n",
       "      <td>1</td>\n",
       "      <td>88</td>\n",
       "      <td>NaN</td>\n",
       "    </tr>\n",
       "    <tr>\n",
       "      <th>3</th>\n",
       "      <td>2019-03-29</td>\n",
       "      <td>Call</td>\n",
       "      <td>2019-03-29 15:42:41</td>\n",
       "      <td>outbound</td>\n",
       "      <td>2019-03-29 15:42:41</td>\n",
       "      <td>00:00:27</td>\n",
       "      <td>NaN</td>\n",
       "      <td>NaT</td>\n",
       "      <td>NaN</td>\n",
       "      <td>NaN</td>\n",
       "      <td>3</td>\n",
       "      <td>29</td>\n",
       "      <td>0</td>\n",
       "      <td>1</td>\n",
       "      <td>88</td>\n",
       "      <td>NaN</td>\n",
       "    </tr>\n",
       "    <tr>\n",
       "      <th>4</th>\n",
       "      <td>2019-03-29</td>\n",
       "      <td>Call</td>\n",
       "      <td>2019-03-29 11:54:56</td>\n",
       "      <td>outbound</td>\n",
       "      <td>2019-03-29 11:54:56</td>\n",
       "      <td>NaN</td>\n",
       "      <td>NaN</td>\n",
       "      <td>NaT</td>\n",
       "      <td>NaN</td>\n",
       "      <td>NaN</td>\n",
       "      <td>3</td>\n",
       "      <td>29</td>\n",
       "      <td>0</td>\n",
       "      <td>1</td>\n",
       "      <td>88</td>\n",
       "      <td>NaN</td>\n",
       "    </tr>\n",
       "    <tr>\n",
       "      <th>...</th>\n",
       "      <td>...</td>\n",
       "      <td>...</td>\n",
       "      <td>...</td>\n",
       "      <td>...</td>\n",
       "      <td>...</td>\n",
       "      <td>...</td>\n",
       "      <td>...</td>\n",
       "      <td>...</td>\n",
       "      <td>...</td>\n",
       "      <td>...</td>\n",
       "      <td>...</td>\n",
       "      <td>...</td>\n",
       "      <td>...</td>\n",
       "      <td>...</td>\n",
       "      <td>...</td>\n",
       "      <td>...</td>\n",
       "    </tr>\n",
       "    <tr>\n",
       "      <th>97868</th>\n",
       "      <td>2019-04-27</td>\n",
       "      <td>Call</td>\n",
       "      <td>2019-04-27 03:40:33</td>\n",
       "      <td>inbound</td>\n",
       "      <td>NaN</td>\n",
       "      <td>NaN</td>\n",
       "      <td>NaN</td>\n",
       "      <td>2019-04-27 03:40:45</td>\n",
       "      <td>00:00:00</td>\n",
       "      <td>NaN</td>\n",
       "      <td>4</td>\n",
       "      <td>27</td>\n",
       "      <td>1</td>\n",
       "      <td>0</td>\n",
       "      <td>117</td>\n",
       "      <td>NaN</td>\n",
       "    </tr>\n",
       "    <tr>\n",
       "      <th>97869</th>\n",
       "      <td>2019-04-27</td>\n",
       "      <td>Call</td>\n",
       "      <td>2019-04-27 20:42:30</td>\n",
       "      <td>inbound</td>\n",
       "      <td>NaN</td>\n",
       "      <td>NaN</td>\n",
       "      <td>NaN</td>\n",
       "      <td>2019-04-27 20:45:55</td>\n",
       "      <td>00:00:21</td>\n",
       "      <td>NaN</td>\n",
       "      <td>4</td>\n",
       "      <td>27</td>\n",
       "      <td>1</td>\n",
       "      <td>0</td>\n",
       "      <td>117</td>\n",
       "      <td>NaN</td>\n",
       "    </tr>\n",
       "    <tr>\n",
       "      <th>97870</th>\n",
       "      <td>2019-04-27</td>\n",
       "      <td>Call</td>\n",
       "      <td>2019-04-27 16:47:52</td>\n",
       "      <td>inbound</td>\n",
       "      <td>NaN</td>\n",
       "      <td>NaN</td>\n",
       "      <td>NaN</td>\n",
       "      <td>2019-04-27 16:52:33</td>\n",
       "      <td>00:00:00</td>\n",
       "      <td>NaN</td>\n",
       "      <td>4</td>\n",
       "      <td>27</td>\n",
       "      <td>1</td>\n",
       "      <td>0</td>\n",
       "      <td>117</td>\n",
       "      <td>NaN</td>\n",
       "    </tr>\n",
       "    <tr>\n",
       "      <th>97871</th>\n",
       "      <td>2019-04-27</td>\n",
       "      <td>Call</td>\n",
       "      <td>2019-04-27 11:57:10</td>\n",
       "      <td>inbound</td>\n",
       "      <td>NaN</td>\n",
       "      <td>NaN</td>\n",
       "      <td>NaN</td>\n",
       "      <td>2019-04-27 11:58:20</td>\n",
       "      <td>00:00:00</td>\n",
       "      <td>NaN</td>\n",
       "      <td>4</td>\n",
       "      <td>27</td>\n",
       "      <td>1</td>\n",
       "      <td>0</td>\n",
       "      <td>117</td>\n",
       "      <td>NaN</td>\n",
       "    </tr>\n",
       "    <tr>\n",
       "      <th>97872</th>\n",
       "      <td>2019-04-27</td>\n",
       "      <td>Call</td>\n",
       "      <td>2019-04-27 13:46:06</td>\n",
       "      <td>inbound</td>\n",
       "      <td>NaN</td>\n",
       "      <td>NaN</td>\n",
       "      <td>NaN</td>\n",
       "      <td>2019-04-27 13:46:57</td>\n",
       "      <td>00:00:00</td>\n",
       "      <td>NaN</td>\n",
       "      <td>4</td>\n",
       "      <td>27</td>\n",
       "      <td>1</td>\n",
       "      <td>0</td>\n",
       "      <td>117</td>\n",
       "      <td>NaN</td>\n",
       "    </tr>\n",
       "  </tbody>\n",
       "</table>\n",
       "<p>97873 rows × 16 columns</p>\n",
       "</div>"
      ],
      "text/plain": [
       "          Period  Type         Create time Direction          Accept time  \\\n",
       "0     2019-03-29  Call 2019-03-29 16:45:37  outbound  2019-03-29 16:45:37   \n",
       "1     2019-03-29  Call 2019-03-29 15:22:13  outbound  2019-03-29 15:22:13   \n",
       "2     2019-03-29  Call 2019-03-29 09:16:10  outbound  2019-03-29 09:16:10   \n",
       "3     2019-03-29  Call 2019-03-29 15:42:41  outbound  2019-03-29 15:42:41   \n",
       "4     2019-03-29  Call 2019-03-29 11:54:56  outbound  2019-03-29 11:54:56   \n",
       "...          ...   ...                 ...       ...                  ...   \n",
       "97868 2019-04-27  Call 2019-04-27 03:40:33   inbound                  NaN   \n",
       "97869 2019-04-27  Call 2019-04-27 20:42:30   inbound                  NaN   \n",
       "97870 2019-04-27  Call 2019-04-27 16:47:52   inbound                  NaN   \n",
       "97871 2019-04-27  Call 2019-04-27 11:57:10   inbound                  NaN   \n",
       "97872 2019-04-27  Call 2019-04-27 13:46:06   inbound                  NaN   \n",
       "\n",
       "      Total time processing transaction Total time on post processing  \\\n",
       "0                                   NaN                           NaN   \n",
       "1                              00:00:19                           NaN   \n",
       "2                              00:01:02                           NaN   \n",
       "3                              00:00:27                           NaN   \n",
       "4                                   NaN                           NaN   \n",
       "...                                 ...                           ...   \n",
       "97868                               NaN                           NaN   \n",
       "97869                               NaN                           NaN   \n",
       "97870                               NaN                           NaN   \n",
       "97871                               NaN                           NaN   \n",
       "97872                               NaN                           NaN   \n",
       "\n",
       "             Abandon time IVR Treatment Time Tagged category  Period_Month  \\\n",
       "0                     NaT                NaN             NaN             3   \n",
       "1                     NaT                NaN             NaN             3   \n",
       "2                     NaT                NaN             NaN             3   \n",
       "3                     NaT                NaN             NaN             3   \n",
       "4                     NaT                NaN             NaN             3   \n",
       "...                   ...                ...             ...           ...   \n",
       "97868 2019-04-27 03:40:45           00:00:00             NaN             4   \n",
       "97869 2019-04-27 20:45:55           00:00:21             NaN             4   \n",
       "97870 2019-04-27 16:52:33           00:00:00             NaN             4   \n",
       "97871 2019-04-27 11:58:20           00:00:00             NaN             4   \n",
       "97872 2019-04-27 13:46:57           00:00:00             NaN             4   \n",
       "\n",
       "       Period_Day  Abandon  Accept  Period_int  Post  \n",
       "0              29        0       1          88   NaN  \n",
       "1              29        0       1          88   NaN  \n",
       "2              29        0       1          88   NaN  \n",
       "3              29        0       1          88   NaN  \n",
       "4              29        0       1          88   NaN  \n",
       "...           ...      ...     ...         ...   ...  \n",
       "97868          27        1       0         117   NaN  \n",
       "97869          27        1       0         117   NaN  \n",
       "97870          27        1       0         117   NaN  \n",
       "97871          27        1       0         117   NaN  \n",
       "97872          27        1       0         117   NaN  \n",
       "\n",
       "[97873 rows x 16 columns]"
      ]
     },
     "execution_count": 53,
     "metadata": {},
     "output_type": "execute_result"
    }
   ],
   "source": [
    "df_1['Post'] = pd.to_timedelta(df_1['Total time on post processing'].astype(str), unit='s')\n",
    "df_1['Post'] = df_1['Post'].dt.seconds\n",
    "df_1"
   ]
  },
  {
   "cell_type": "code",
   "execution_count": 54,
   "metadata": {},
   "outputs": [
    {
     "data": {
      "text/html": [
       "<div>\n",
       "<style scoped>\n",
       "    .dataframe tbody tr th:only-of-type {\n",
       "        vertical-align: middle;\n",
       "    }\n",
       "\n",
       "    .dataframe tbody tr th {\n",
       "        vertical-align: top;\n",
       "    }\n",
       "\n",
       "    .dataframe thead th {\n",
       "        text-align: right;\n",
       "    }\n",
       "</style>\n",
       "<table border=\"1\" class=\"dataframe\">\n",
       "  <thead>\n",
       "    <tr style=\"text-align: right;\">\n",
       "      <th></th>\n",
       "      <th>Post</th>\n",
       "    </tr>\n",
       "    <tr>\n",
       "      <th>Period_int</th>\n",
       "      <th></th>\n",
       "    </tr>\n",
       "  </thead>\n",
       "  <tbody>\n",
       "    <tr>\n",
       "      <th>29</th>\n",
       "      <td>32.320532</td>\n",
       "    </tr>\n",
       "    <tr>\n",
       "      <th>30</th>\n",
       "      <td>51.132964</td>\n",
       "    </tr>\n",
       "    <tr>\n",
       "      <th>31</th>\n",
       "      <td>50.489540</td>\n",
       "    </tr>\n",
       "    <tr>\n",
       "      <th>32</th>\n",
       "      <td>43.682367</td>\n",
       "    </tr>\n",
       "    <tr>\n",
       "      <th>33</th>\n",
       "      <td>42.983806</td>\n",
       "    </tr>\n",
       "    <tr>\n",
       "      <th>...</th>\n",
       "      <td>...</td>\n",
       "    </tr>\n",
       "    <tr>\n",
       "      <th>113</th>\n",
       "      <td>59.069465</td>\n",
       "    </tr>\n",
       "    <tr>\n",
       "      <th>114</th>\n",
       "      <td>75.980000</td>\n",
       "    </tr>\n",
       "    <tr>\n",
       "      <th>115</th>\n",
       "      <td>62.431925</td>\n",
       "    </tr>\n",
       "    <tr>\n",
       "      <th>116</th>\n",
       "      <td>64.910336</td>\n",
       "    </tr>\n",
       "    <tr>\n",
       "      <th>117</th>\n",
       "      <td>66.728994</td>\n",
       "    </tr>\n",
       "  </tbody>\n",
       "</table>\n",
       "<p>89 rows × 1 columns</p>\n",
       "</div>"
      ],
      "text/plain": [
       "                 Post\n",
       "Period_int           \n",
       "29          32.320532\n",
       "30          51.132964\n",
       "31          50.489540\n",
       "32          43.682367\n",
       "33          42.983806\n",
       "...               ...\n",
       "113         59.069465\n",
       "114         75.980000\n",
       "115         62.431925\n",
       "116         64.910336\n",
       "117         66.728994\n",
       "\n",
       "[89 rows x 1 columns]"
      ]
     },
     "execution_count": 54,
     "metadata": {},
     "output_type": "execute_result"
    }
   ],
   "source": [
    "df_3 = df_1[[\"Period_int\" , \"Post\"]].groupby([\"Period_int\"]).mean()\n",
    "df_3"
   ]
  },
  {
   "cell_type": "code",
   "execution_count": 55,
   "metadata": {},
   "outputs": [
    {
     "data": {
      "text/html": [
       "<div>\n",
       "<style scoped>\n",
       "    .dataframe tbody tr th:only-of-type {\n",
       "        vertical-align: middle;\n",
       "    }\n",
       "\n",
       "    .dataframe tbody tr th {\n",
       "        vertical-align: top;\n",
       "    }\n",
       "\n",
       "    .dataframe thead th {\n",
       "        text-align: right;\n",
       "    }\n",
       "</style>\n",
       "<table border=\"1\" class=\"dataframe\">\n",
       "  <thead>\n",
       "    <tr style=\"text-align: right;\">\n",
       "      <th></th>\n",
       "      <th>Post</th>\n",
       "    </tr>\n",
       "    <tr>\n",
       "      <th>Period_int</th>\n",
       "      <th></th>\n",
       "    </tr>\n",
       "  </thead>\n",
       "  <tbody>\n",
       "    <tr>\n",
       "      <th>29</th>\n",
       "      <td>32.320532</td>\n",
       "    </tr>\n",
       "    <tr>\n",
       "      <th>30</th>\n",
       "      <td>51.132964</td>\n",
       "    </tr>\n",
       "    <tr>\n",
       "      <th>31</th>\n",
       "      <td>50.489540</td>\n",
       "    </tr>\n",
       "    <tr>\n",
       "      <th>32</th>\n",
       "      <td>43.682367</td>\n",
       "    </tr>\n",
       "    <tr>\n",
       "      <th>33</th>\n",
       "      <td>42.983806</td>\n",
       "    </tr>\n",
       "    <tr>\n",
       "      <th>...</th>\n",
       "      <td>...</td>\n",
       "    </tr>\n",
       "    <tr>\n",
       "      <th>113</th>\n",
       "      <td>59.069465</td>\n",
       "    </tr>\n",
       "    <tr>\n",
       "      <th>114</th>\n",
       "      <td>75.980000</td>\n",
       "    </tr>\n",
       "    <tr>\n",
       "      <th>115</th>\n",
       "      <td>62.431925</td>\n",
       "    </tr>\n",
       "    <tr>\n",
       "      <th>116</th>\n",
       "      <td>64.910336</td>\n",
       "    </tr>\n",
       "    <tr>\n",
       "      <th>117</th>\n",
       "      <td>66.728994</td>\n",
       "    </tr>\n",
       "  </tbody>\n",
       "</table>\n",
       "<p>83 rows × 1 columns</p>\n",
       "</div>"
      ],
      "text/plain": [
       "                 Post\n",
       "Period_int           \n",
       "29          32.320532\n",
       "30          51.132964\n",
       "31          50.489540\n",
       "32          43.682367\n",
       "33          42.983806\n",
       "...               ...\n",
       "113         59.069465\n",
       "114         75.980000\n",
       "115         62.431925\n",
       "116         64.910336\n",
       "117         66.728994\n",
       "\n",
       "[83 rows x 1 columns]"
      ]
     },
     "execution_count": 55,
     "metadata": {},
     "output_type": "execute_result"
    }
   ],
   "source": [
    "df_3 = df_3[~df_3['Post'].isnull()]\n",
    "df_3"
   ]
  },
  {
   "cell_type": "code",
   "execution_count": 56,
   "metadata": {},
   "outputs": [],
   "source": [
    "df_3 = df_3.reset_index()"
   ]
  },
  {
   "cell_type": "code",
   "execution_count": 57,
   "metadata": {},
   "outputs": [
    {
     "data": {
      "image/png": "[encoded data removed]",
      "text/plain": [
       "<Figure size 432x288 with 1 Axes>"
      ]
     },
     "metadata": {
      "needs_background": "light"
     },
     "output_type": "display_data"
    }
   ],
   "source": [
    "df_3['Post'].plot()\n",
    "plt.show()"
   ]
  },
  {
   "cell_type": "code",
   "execution_count": 58,
   "metadata": {},
   "outputs": [
    {
     "name": "stdout",
     "output_type": "stream",
     "text": [
      "[38.34630218 38.64015631 38.93401044 39.22786457 39.5217187  39.81557283\n",
      " 40.10942696 40.40328109 40.69713522 40.99098935 41.28484348 41.57869761\n",
      " 41.87255174 42.16640587 42.46026    42.75411413 43.04796826 43.34182239\n",
      " 43.63567652 43.92953065 44.22338478 44.51723891 44.81109304 45.10494717\n",
      " 45.3988013  45.69265543 45.98650956 46.28036369 46.57421782 46.86807195\n",
      " 47.16192608 47.45578021 47.74963434 48.04348847 48.33734259 48.63119672\n",
      " 48.92505085 49.21890498 49.51275911 49.80661324 50.10046737 50.3943215\n",
      " 50.68817563 50.98202976 51.27588389 51.56973802 51.86359215 52.15744628\n",
      " 52.45130041 52.74515454 53.03900867 53.3328628  53.62671693 55.68369584\n",
      " 55.97754997 56.2714041  56.56525823 56.85911236 57.15296649 57.44682062\n",
      " 57.74067475 58.03452888 58.32838301 58.62223714 58.91609127 59.2099454\n",
      " 59.50379953 59.79765366 60.09150779 60.38536192 60.67921605 60.97307018\n",
      " 61.26692431 61.56077844 61.85463257 62.1484867  62.44234083 62.73619496\n",
      " 63.03004909 63.32390322 63.61775735 63.91161148 64.20546561]\n"
     ]
    }
   ],
   "source": [
    "# linear regression to show increase in post admin over time \n",
    "\n",
    "model3 = linear_model.LinearRegression().fit(df_3[['Period_int']], df_3['Post'])\n",
    "\n",
    "p3 = model3.predict(df_3[['Period_int']])\n",
    "print(p3)"
   ]
  },
  {
   "cell_type": "code",
   "execution_count": 59,
   "metadata": {},
   "outputs": [
    {
     "name": "stdout",
     "output_type": "stream",
     "text": [
      "Coefficients: \n",
      " 0.29385412983023207\n",
      "Intercept: \n",
      " 29.82453241565467\n"
     ]
    }
   ],
   "source": [
    "# The coefficients\n",
    "\n",
    "print('Coefficients: \\n', model3.coef_[0])\n",
    "print('Intercept: \\n', model3.intercept_)"
   ]
  },
  {
   "cell_type": "code",
   "execution_count": 60,
   "metadata": {},
   "outputs": [
    {
     "name": "stdout",
     "output_type": "stream",
     "text": [
      "Mean squared error: 73.93\n"
     ]
    }
   ],
   "source": [
    "# The mean squared error\n",
    "\n",
    "print('Mean squared error: %.2f'\n",
    "      % mean_squared_error(df_3['Post'], p3))"
   ]
  },
  {
   "cell_type": "code",
   "execution_count": 61,
   "metadata": {},
   "outputs": [
    {
     "name": "stdout",
     "output_type": "stream",
     "text": [
      "Coefficient of determination: 0.45\n"
     ]
    }
   ],
   "source": [
    "# The coefficient of determination: 1 is perfect prediction\n",
    "print('Coefficient of determination: %.2f'\n",
    "      % r2_score(df_3['Post'], p3))"
   ]
  },
  {
   "cell_type": "code",
   "execution_count": 62,
   "metadata": {},
   "outputs": [
    {
     "data": {
      "image/png": "[encoded data removed]",
      "text/plain": [
       "<Figure size 432x288 with 1 Axes>"
      ]
     },
     "metadata": {},
     "output_type": "display_data"
    }
   ],
   "source": [
    "# Plot outputs\n",
    "plt.scatter(df_3[['Period_int']], df_3['Post'],  color='black')\n",
    "plt.plot(df_3[['Period_int']], p3, color='blue', linewidth=3)\n",
    "\n",
    "plt.xticks(())\n",
    "plt.yticks(())\n",
    "\n",
    "plt.show()"
   ]
  }
 ],
 "metadata": {
  "kernelspec": {
   "display_name": "Learning Env",
   "language": "python",
   "name": "learning_env"
  },
  "language_info": {
   "codemirror_mode": {
    "name": "ipython",
    "version": 3
   },
   "file_extension": ".py",
   "mimetype": "text/x-python",
   "name": "python",
   "nbconvert_exporter": "python",
   "pygments_lexer": "ipython3",
   "version": "3.7.7"
  }
 },
 "nbformat": 4,
 "nbformat_minor": 4
}
